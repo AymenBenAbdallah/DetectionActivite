{
  "nbformat": 4,
  "nbformat_minor": 0,
  "metadata": {
    "kernelspec": {
      "display_name": "Python 3",
      "language": "python",
      "name": "python3"
    },
    "language_info": {
      "codemirror_mode": {
        "name": "ipython",
        "version": 3
      },
      "file_extension": ".py",
      "mimetype": "text/x-python",
      "name": "python",
      "nbconvert_exporter": "python",
      "pygments_lexer": "ipython3",
      "version": "3.7.4-final"
    },
    "colab": {
      "name": "Projet 3A SN - Detection activite humaine.ipynb",
      "provenance": []
    }
  },
  "cells": [
    {
      "cell_type": "markdown",
      "metadata": {
        "id": "F3TlN18sWpcF"
      },
      "source": [
        "# Projet 3A SN :  Détection d'activité humaine - Apprentissage supervisé et non supervisé\n",
        "\n",
        "**Nom du Groupe :** Les zinzins de l'IA\n",
        "\n",
        "**Noms :** Di Noia - Ben Abdallah\n",
        "\n",
        "**Prénoms :** Lana - Aymen\n",
        "\n",
        "\n",
        "\n",
        "Dans ce projet, nous essaierons de prédire l'activité humaine (1-Descendre, 2-Courir, 3-Assis, 4-Debout, 5-Monter ou 6-Marcher) en utilisant les capteurs du smartphone. C'est-à-dire qu'en utilisant les méthodes suivantes, le smartphone peut détecter ce que nous faisons en ce moment.\n",
        "\n",
        "\n",
        "En utilisant l'accéléromètre  intégré dans le smartphone,  l'accélération linéaire 3-axes à un taux constant de 50Hz ont été relevées. Les expériences ont été enregistrées sur vidéo pour étiqueter les données manuellement. \n",
        "\n",
        "<img src=\"files/HARDataset.JPG\" width=\"800\" height=\"600\"  >\n",
        "\n",
        "Il est fourni pour chaque enregistrement de l'ensemble de données : \n",
        "- L'accélération triaxiale de l'accéléromètre (accélération totale)\n",
        "- Son étiquette d'activité. \n",
        "- Un identifiant du sujet qui a réalisé l'expérience.\n",
        "\n",
        "\n",
        "Ces 5 séances se décomposent en 4 parties : \n",
        "- Partie I : Implémenter la DTW pour créer un système de reconnaissance;\n",
        "- Partie II : Réduction de dimension par ACP et classification par kppv \n",
        "- Partie III : Classification par Forêts aléatoires\n",
        "- Partie IV : Classification par réseaux de neurones\n",
        "- Partie V : Votre étude\n",
        "\n",
        "**Travail à rendre**\n",
        "\n",
        "Pour cela, vous devez par binômes (effectif **OBLIGATOIRE**):\n",
        "1. Implémenter la DTW pour créer un système de reconnaissance;\n",
        "2. Evaluer les résultats en utilisant la matrice de confusion et le pourcentage de bonne classification;\n",
        "3. Réduction de dimension par ACP et classification par kppv \n",
        "4. Classification par Forêts aléatoires\n",
        "5. Classification par réseaux de neurones\n",
        "6. Rédiger un rapport en pdf présentant votre étude : les résultats par  méthode et vos commentaires et conclusions sur une étude plus générale en modifiant les tailles des ensembles de test et d'apprentissage, en changeant le nombre de classes  (Longeur max. : 10 pages).\n",
        "\n",
        "\n",
        "**Dataset et description :**\n",
        "https://archive.ics.uci.edu/ml/datasets/WISDM+Smartphone+and+Smartwatch+Activity+and+Biometrics+Dataset+\n",
        "\n",
        "\n",
        "\n"
      ]
    },
    {
      "cell_type": "code",
      "metadata": {
        "id": "nLzeqQHzWpcJ"
      },
      "source": [
        "import matplotlib.pyplot as plt\n",
        "import numpy as np\n",
        "import sklearn\n",
        "import pandas as pd\n",
        "import math\n",
        "from scipy import stats\n",
        "import seaborn as sns"
      ],
      "execution_count": 17,
      "outputs": []
    },
    {
      "cell_type": "code",
      "metadata": {
        "id": "OTJG3dngWpcM",
        "colab": {
          "base_uri": "https://localhost:8080/"
        },
        "outputId": "f8ba6256-5933-47f5-8ddb-686e809161d9"
      },
      "source": [
        "COLUMN_NAMES = [\n",
        "    'user',\n",
        "    'activity',\n",
        "    'timestamp',\n",
        "    'x-axis',\n",
        "    'y-axis',\n",
        "    'z-axis'\n",
        "]\n",
        "\n",
        "LABELS = [\n",
        "    'Downstairs',\n",
        "    'Jogging',\n",
        "    'Sitting',\n",
        "    'Standing',\n",
        "    'Upstairs',\n",
        "    'Walking'\n",
        "]\n",
        "\n",
        "DATA_PATH = './WISDM_ar_v1.1_raw.txt'\n",
        "\n",
        "\n",
        "# Data preprocessing\n",
        "TIME_STEP = 60\n",
        "\n",
        "# Model\n",
        "N_CLASSES = 3\n",
        "N_FEATURES = 3  # x-acceleration, y-acceleration, z-acceleration\n",
        "SEGMENT_TIME_SIZE = 30\n",
        "TAILLE_TEST=40\n",
        "TAILLE_APP=20"
      ],
      "execution_count": 18,
      "outputs": []
    },
    {
      "cell_type": "markdown",
      "metadata": {
        "id": "3xmaW7nFWpcO"
      },
      "source": [
        "## 1. Création des données d'apprentissage et de test"
      ]
    },
    {
      "cell_type": "code",
      "metadata": {
        "colab": {
          "base_uri": "https://localhost:8080/",
          "height": 452
        },
        "id": "g6ntxDeQWpcP",
        "outputId": "939bbab1-e05f-41a0-8ec1-824adcbfb8d4"
      },
      "source": [
        "# Chargement DATA\n",
        "data = pd.read_csv(DATA_PATH, header=None, names=COLUMN_NAMES)\n",
        "data['z-axis'].replace({';': ''}, regex=True, inplace=True)\n",
        "data = data.dropna()\n",
        "\n",
        "\n",
        "data_convoluted = []\n",
        "labels = []\n",
        "\n",
        "\n",
        "\n",
        "# Prendre des segments temporels de taille SEGMENT_TIME_SIZE \n",
        "# tous les TIME_STEP pour une même activité\n",
        "for j in range(0,N_CLASSES):\n",
        "    DataBest=data[data['activity'] == LABELS[j]]\n",
        "    for i in range(0, len(DataBest) - SEGMENT_TIME_SIZE, TIME_STEP):\n",
        "        x = DataBest['x-axis'].values[i: i + SEGMENT_TIME_SIZE]\n",
        "        y = DataBest['y-axis'].values[i: i + SEGMENT_TIME_SIZE]\n",
        "        z = DataBest['z-axis'].values[i: i + SEGMENT_TIME_SIZE]\n",
        "        data_convoluted.append([x, y, z])\n",
        "    # Label de l'activité associée à chaque segment\n",
        "        label = j\n",
        "        labels.append(label)\n",
        "\n",
        "\n",
        "# Conversion numpy\n",
        "data_convoluted = np.asarray(data_convoluted, dtype=np.float32).transpose(0, 2, 1)\n",
        "\n",
        "labels = np.asarray(labels, dtype=np.int)\n",
        "print(\"Convoluted data shape: \", data_convoluted.shape)\n",
        "print(\"Labels shape:\", labels.shape)\n",
        "\n",
        "\n",
        "fig, axs = plt.subplots(N_CLASSES,figsize=(30,30))\n",
        "fig.suptitle('Profil moyen Activité')\n",
        "\n",
        "profil_median=np.zeros((N_CLASSES,SEGMENT_TIME_SIZE,N_FEATURES))\n",
        "List_Data_Test=np.zeros(N_CLASSES*TAILLE_TEST)\n",
        "Data_Test=np.zeros((N_CLASSES*TAILLE_TEST,SEGMENT_TIME_SIZE*N_FEATURES))\n",
        "Data_App=np.zeros((TAILLE_APP*N_CLASSES,SEGMENT_TIME_SIZE*N_FEATURES))\n",
        "Label_Test=np.zeros(N_CLASSES*TAILLE_TEST)\n",
        "Label_App=np.zeros(N_CLASSES*TAILLE_APP)\n",
        "\n",
        "for i in range(N_CLASSES):\n",
        "    # Selection des données correspondant à la classe i\n",
        "    print('Classe N°',i)\n",
        "    res=np.where(labels==i)\n",
        "    res=np.array(res)\n",
        "    res=np.ravel(res)\n",
        "    taille=res.shape[0]\n",
        "    \n",
        "    # Création de la base de Test\n",
        "    tirage=np.random.randint(0,taille,TAILLE_TEST)\n",
        "    List_Data_Test[i*TAILLE_TEST:(i+1)*TAILLE_TEST]=res[tirage[0:TAILLE_TEST]]\n",
        "    Label_Test[i*TAILLE_TEST:(i+1)*TAILLE_TEST]=i\n",
        "    tir_dataTest=data_convoluted[res[tirage[0:TAILLE_TEST]],:,:]\n",
        "    Data_Test[i*TAILLE_TEST:(i+1)*TAILLE_TEST,:]=np.reshape(tir_dataTest,(TAILLE_TEST,SEGMENT_TIME_SIZE*N_FEATURES))\n",
        "    \n",
        "    \n",
        "    # Création de la base d'Apprentissage\n",
        "    tirage1=np.random.randint(0,taille,TAILLE_APP)\n",
        "    tir_dataApp=data_convoluted[res[tirage1[0:TAILLE_APP]],:,:]\n",
        "    Data_App[i*TAILLE_APP:(i+1)*TAILLE_APP,:]=np.reshape(tir_dataApp,(TAILLE_APP,SEGMENT_TIME_SIZE*N_FEATURES))\n",
        "    Label_App[i*TAILLE_APP:(i+1)*TAILLE_APP]=i\n",
        "    \n",
        "    # Affichage du profil temporel moyen de la classe\n",
        "    class1=np.median(tir_dataApp,axis=0)\n",
        "    profil_median[i,:,:]=class1\n",
        "    \n",
        "    axs[i].plot(range(SEGMENT_TIME_SIZE),class1[:,0],'b--')\n",
        "    axs[i].plot(range(SEGMENT_TIME_SIZE),class1[:,1],'r-')\n",
        "    axs[i].plot(range(SEGMENT_TIME_SIZE),class1[:,2],'k.')\n",
        "    axs[i].set_ylabel('X-Y-Z acceleration (dg)',fontsize=20)\n",
        "    axs[i].set_title(LABELS[i], fontsize=20)\n",
        "\n",
        "\n"
      ],
      "execution_count": 15,
      "outputs": [
        {
          "output_type": "error",
          "ename": "NameError",
          "evalue": "name 'N_CLASSES' is not defined",
          "traceback": [
            "\u001b[0;31m---------------------------------------------------------------------------\u001b[0m",
            "\u001b[0;31mNameError\u001b[0m                                 Traceback (most recent call last)",
            "\u001b[0;32m<ipython-input-15-205b79573393>\u001b[0m in \u001b[0;36m<module>\u001b[0;34m\u001b[0m\n\u001b[1;32m     12\u001b[0m \u001b[0;31m# Prendre des segments temporels de taille SEGMENT_TIME_SIZE\u001b[0m\u001b[0;34m\u001b[0m\u001b[0;34m\u001b[0m\u001b[0;34m\u001b[0m\u001b[0m\n\u001b[1;32m     13\u001b[0m \u001b[0;31m# tous les TIME_STEP pour une même activité\u001b[0m\u001b[0;34m\u001b[0m\u001b[0;34m\u001b[0m\u001b[0;34m\u001b[0m\u001b[0m\n\u001b[0;32m---> 14\u001b[0;31m \u001b[0;32mfor\u001b[0m \u001b[0mj\u001b[0m \u001b[0;32min\u001b[0m \u001b[0mrange\u001b[0m\u001b[0;34m(\u001b[0m\u001b[0;36m0\u001b[0m\u001b[0;34m,\u001b[0m\u001b[0mN_CLASSES\u001b[0m\u001b[0;34m)\u001b[0m\u001b[0;34m:\u001b[0m\u001b[0;34m\u001b[0m\u001b[0;34m\u001b[0m\u001b[0m\n\u001b[0m\u001b[1;32m     15\u001b[0m     \u001b[0mDataBest\u001b[0m\u001b[0;34m=\u001b[0m\u001b[0mdata\u001b[0m\u001b[0;34m[\u001b[0m\u001b[0mdata\u001b[0m\u001b[0;34m[\u001b[0m\u001b[0;34m'activity'\u001b[0m\u001b[0;34m]\u001b[0m \u001b[0;34m==\u001b[0m \u001b[0mLABELS\u001b[0m\u001b[0;34m[\u001b[0m\u001b[0mj\u001b[0m\u001b[0;34m]\u001b[0m\u001b[0;34m]\u001b[0m\u001b[0;34m\u001b[0m\u001b[0;34m\u001b[0m\u001b[0m\n\u001b[1;32m     16\u001b[0m     \u001b[0;32mfor\u001b[0m \u001b[0mi\u001b[0m \u001b[0;32min\u001b[0m \u001b[0mrange\u001b[0m\u001b[0;34m(\u001b[0m\u001b[0;36m0\u001b[0m\u001b[0;34m,\u001b[0m \u001b[0mlen\u001b[0m\u001b[0;34m(\u001b[0m\u001b[0mDataBest\u001b[0m\u001b[0;34m)\u001b[0m \u001b[0;34m-\u001b[0m \u001b[0mSEGMENT_TIME_SIZE\u001b[0m\u001b[0;34m,\u001b[0m \u001b[0mTIME_STEP\u001b[0m\u001b[0;34m)\u001b[0m\u001b[0;34m:\u001b[0m\u001b[0;34m\u001b[0m\u001b[0;34m\u001b[0m\u001b[0m\n",
            "\u001b[0;31mNameError\u001b[0m: name 'N_CLASSES' is not defined"
          ]
        }
      ]
    },
    {
      "cell_type": "markdown",
      "metadata": {
        "id": "GljpVIvHWpcR"
      },
      "source": [
        "# Partie I : Implémentation de l'algorithme de programmation dynamique \n",
        "\n",
        "1. Ecrivez une fonction en python DTW qui implémente le calcul et l'affichage de la matrice des coûts définie en CTD. "
      ]
    },
    {
      "cell_type": "code",
      "metadata": {
        "id": "Qhdt1Jb-WpcS"
      },
      "source": [
        "def DTW(profil_median, example_test, distance = np.linalg.norm):\n",
        "    #n = np.size(profil_median)\n",
        "    #m = np.size(example_test)\n",
        "    n = len(profil_median)\n",
        "    m = len(example_test)\n",
        "    g = np.zeros((n + 1, m + 1))\n",
        "    for j in range(m + 1):\n",
        "        for i in range(n + 1):\n",
        "            g[i][j] = np.inf\n",
        "    g[0, 0] = 0\n",
        "    for i in range(1, n + 1):\n",
        "        for j in range(1, m + 1):\n",
        "            g[i][j] = min(g[i-1][j], g[i-1][j-1], g[i][j-1]) + distance(example_test[j - 1] - profil_median[i - 1])\n",
        "    \n",
        "    S = g[len(profil_median) - 1, len(example_test) - 1] / (len(example_test) + len(profil_median))\n",
        "\n",
        "    return g, S"
      ],
      "execution_count": null,
      "outputs": []
    },
    {
      "cell_type": "code",
      "metadata": {
        "id": "93CFmm2MWpcT"
      },
      "source": [
        "# Test de validité de la fonction implantée\n",
        "A=np.array([1, 2, 3])\n",
        "B=np.array([2, 2, 2, 3, 4])\n",
        "C = np.array([[ 0., np.inf, np.inf, np.inf, np.inf, np.inf],\n",
        "       [np.inf,  1.,  2.,  3.,  5.,  8.],\n",
        "       [np.inf,  1.,  1.,  1.,  2.,  4.],\n",
        "       [np.inf,  2.,  2.,  2.,  1.,  2.]])\n",
        "score = 0.25\n",
        "resultat = DTW(A, B)\n",
        "np.testing.assert_array_equal(resultat[0], C, \"Erreur dans l'implémentation de la fonction DTW!\\nRésultats non cohérents avec les tests\\n\")\n",
        "assert score == resultat[1]"
      ],
      "execution_count": null,
      "outputs": []
    },
    {
      "cell_type": "markdown",
      "metadata": {
        "id": "by8PeSCIWpcU"
      },
      "source": [
        "2. Pour chaque profil temporel test :\n",
        "\n",
        "a) Calculer pour chaque classe, le score de la DTW entre le profil temporel test et les profils temporels de la classe \n",
        "\n",
        "b) Déterminer la classe d'appartenance par minimum du score sur toutes les classes\n",
        "\n",
        "\n"
      ]
    },
    {
      "cell_type": "code",
      "metadata": {
        "tags": [],
        "id": "2XOpWrAPWpcW"
      },
      "source": [
        "# matchPrelClass est une variable qui associe chaque prélèvement (son indice dans data_convoluted) \n",
        "# avec sa classe correspendante selon le score minimal reçu avec la fonction DTW\n",
        "matchPrelClass= []\n",
        "for num in range(TAILLE_TEST*N_CLASSES):\n",
        "    score = np.inf\n",
        "    for i in range(N_CLASSES):\n",
        "        val = int(List_Data_Test[num])\n",
        "        result = DTW(profil_median[i, :, :], data_convoluted[val, :, :])\n",
        "        if (score > result[1]):\n",
        "            score = result[1]\n",
        "            classe = i\n",
        "    matchPrelClass.append(classe)"
      ],
      "execution_count": null,
      "outputs": []
    },
    {
      "cell_type": "code",
      "metadata": {
        "id": "2UyD5t7iWpcX"
      },
      "source": [
        "# On convertit matchPrelClass en un tableau pour pouvoir l'utiliser ultérieurement\n",
        "match = np.array(matchPrelClass)"
      ],
      "execution_count": null,
      "outputs": []
    },
    {
      "cell_type": "markdown",
      "metadata": {
        "id": "Uj48w2i_Wpca"
      },
      "source": [
        "3. A partir de la partition de l'ensemble test obtenue après la DTW, calculer la matrice de confusion qui recense le nombre de données bien classés et mal classés."
      ]
    },
    {
      "cell_type": "code",
      "metadata": {
        "id": "qLiBpb7cWpca"
      },
      "source": [
        "from sklearn.metrics import confusion_matrix"
      ],
      "execution_count": null,
      "outputs": []
    },
    {
      "cell_type": "code",
      "metadata": {
        "id": "Z8S1uVqvWpcb",
        "outputId": "193775d2-9358-42a0-a69f-3409c9e8f4dc"
      },
      "source": [
        "cmDTW = confusion_matrix(Label_Test, match)\n",
        "rateDTW = (cmDTW[0,0] + cmDTW[1,1] + cmDTW[2,2])/(Data_Test.shape[0])\n",
        "print(cmDTW, \"\\nTaux avec la DTW = \", rateDTW)"
      ],
      "execution_count": null,
      "outputs": [
        {
          "output_type": "stream",
          "text": [
            "[[34  5  1]\n",
            " [21 19  0]\n",
            " [ 2  4 34]] \n",
            "Taux avec la DTW =  0.725\n"
          ],
          "name": "stdout"
        }
      ]
    },
    {
      "cell_type": "markdown",
      "metadata": {
        "id": "mnccqK3OWpcb"
      },
      "source": [
        "# Partie II : Réduction de dimension par ACP et classification par kppv \n",
        "\n",
        "Dans cette partie, nous allons comparer les résultats de la DTW avec ceux d'une méthode de classification de données : les k-plus proches voisins.\n",
        "\n",
        "Nous utiliserons les fonctions permettant de calculer l'ACP et les kppv via la librairie python *scikit-learn*.\n",
        "\n",
        "\n"
      ]
    },
    {
      "cell_type": "markdown",
      "metadata": {
        "id": "ngiIwngwWpcc"
      },
      "source": [
        "### Prétraitement par ACP\n",
        "\n",
        "Pour tester une autre méthode de classification, \n",
        "\n",
        "1. A partir des données Data_App de la base d'apprentissage et en utilisant la fonction *PCA* de la librairie *scikit-learn*, calculez les 3 axes principaux de l'ACP en\n",
        "extrayant les 3 vecteurs propres, notés $X_1$, $X_2$, $X_3$, associés aux 3 plus grandes valeurs propres de la matrice de\n",
        "variance-covariance $\\Sigma_{App}$.Ces vecteurs propres constitueront la nouvelle base de données.\n",
        "\n",
        "2. Projetez les données de la base d'apprentissage et de test dans cette nouvelle base en multipliant chaque\n",
        "vecteur par la base $P = [X_1X_2X_3]$.\n",
        "\n",
        "*Remarque :* vous pouvez aussi implémenter l'ACP en\n",
        "extrayant les 3 vecteurs propres, notés $X_1$, $X_2$, $X_3$, associés aux 3 plus grandes valeurs propres de la matrice de\n",
        "variance-covariance $\\Sigma_{App}$ (par les fonctions *np.cov* et *np.linalg.eig*). Ces vecteurs propres constitueront le nouveau repère P.  Projetez ensuite les données de la base d'apprentissage et de test dans cette nouvelle base en multipliant chaque vecteur par la base $P = [X_1X_2X_3]$.\n",
        "\n",
        "\n"
      ]
    },
    {
      "cell_type": "code",
      "metadata": {
        "id": "9xaX4zfaWpcd"
      },
      "source": [
        "from sklearn.decomposition import PCA\n"
      ],
      "execution_count": null,
      "outputs": []
    },
    {
      "cell_type": "code",
      "metadata": {
        "id": "7xbk_9qXWpcd"
      },
      "source": [
        "pca = PCA(n_components = 3)\n",
        "pca.fit(Data_App)\n",
        "axes = pca.singular_values_\n",
        "\n",
        "DataApp = np.dot(Data_App.reshape(Data_App.shape[0],Data_App.shape[1]//3,3), axes.transpose())\n",
        "DataTest = np.dot(Data_Test.reshape(Data_Test.shape[0],Data_Test.shape[1]//3,3), axes.transpose())"
      ],
      "execution_count": null,
      "outputs": []
    },
    {
      "cell_type": "markdown",
      "metadata": {
        "id": "psCuq3D8Wpce"
      },
      "source": [
        "### Classification par k plus proches voisins\n",
        "\n",
        "En intelligence artificielle, la méthode des k plus proches voisins (k-ppv) est une méthode d'apprentissage\n",
        "supervisé. Dans ce cadre, on dispose d'une base de données d'apprentissage constituée de couples  \"donnée-label\". Pour estimer la sortie associée à une nouvelle entrée x, la méthode des k plus proches voisins consiste à prendre\n",
        "en compte (de façon identique) les k échantillons d'apprentissage dont l'entrée est la plus proche de la nouvelle\n",
        "entrée x, selon une distance à définir. L'algorithme 1 associé et un exemple (figure 1) sont données par la suite.\n",
        "\n",
        "<img src=\"files/AlgoKppv.png\" width=\"900\" height=\"800\"  >\n",
        "\n",
        "<img src=\"files/kppv.png\" width=\"300\" height=\"300\"  >\n",
        "\n",
        "**Exemple de classification par k-ppv.** L'échantillon de test (cercle vert) doit être classé soit dans la première\n",
        "classe des carrés bleus, soit dans la deuxième classe des triangles rouges. \n",
        "Si k = 3 (cercle plein), il est assigné à la deuxième classe parce qu'il y a 2 triangles et seulement 1 carré à l'intérieur du cercle intérieur. \n",
        "Si k = 5 (cercle en pointillés), il est assigné à la première classe (3 carrés contre 2 triangles à l'intérieur du cercle extérieur)\n",
        "\n",
        "\n",
        "1. En utilisant la fonction *KNeighborsClassifier* de la librairie *sklearn.neighbors*, réalisez une classification par k-ppv sur la base d'apprentissage et la base de test que vous avez prédéfinies (prendre $k=1$).\n",
        "\n",
        "2. Evaluez la méthode des k-ppv par le calcul de la matrice de confusion et du taux de reconnaissance.\n",
        "\n",
        "3. Modifiez la valeur de $k$ pour les k-ppv. Améliorez-vous les scores de reconnaissance ?\n",
        "\n",
        "4. Comparez vos résultats avec ceux de la DTW.\n",
        "\n",
        "\n",
        "\n",
        "\n"
      ]
    },
    {
      "cell_type": "code",
      "metadata": {
        "id": "Tt-OICEdWpce"
      },
      "source": [
        "from sklearn.neighbors import KNeighborsClassifier"
      ],
      "execution_count": null,
      "outputs": []
    },
    {
      "cell_type": "code",
      "metadata": {
        "id": "0CJFRECDWpcf",
        "outputId": "e0e06c38-56f2-4915-8e96-d7f24585024e"
      },
      "source": [
        "k1 = KNeighborsClassifier(n_neighbors=1)\n",
        "k1.fit(DataApp, Label_App)\n",
        "\n",
        "k3 = KNeighborsClassifier(n_neighbors=3)\n",
        "k3.fit(DataApp, Label_App)\n",
        "\n",
        "k5 = KNeighborsClassifier(n_neighbors=5)\n",
        "k5.fit(DataApp, Label_App)\n",
        "\n",
        "\n",
        "predict1 = k1.predict(DataTest)\n",
        "\n",
        "predict3 = k3.predict(DataTest)\n",
        "\n",
        "predict5 = k5.predict(DataTest)\n",
        "\n",
        "\n",
        "cm1 = confusion_matrix(predict1, Label_Test)\n",
        "taux1 = (cm1[0,0] + cm1[1,1] + cm1[2,2])/(DataTest.shape[0])\n",
        "\n",
        "cm3 = confusion_matrix(predict3, Label_Test)\n",
        "taux3 = (cm3[0,0] + cm3[1,1] + cm3[2,2])/(DataTest.shape[0])\n",
        "\n",
        "cm5 = confusion_matrix(predict5, Label_Test)\n",
        "taux5 = (cm5[0,0] + cm5[1,1] + cm5[2,2])/(DataTest.shape[0])\n",
        "\n",
        "print(cm1, \"\\nTaux avec 1 voisin = \", taux1, \"\\n\")\n",
        "print(cm3, \"\\nTaux avec 3 voisins = \", taux3, \"\\n\")\n",
        "print(cm5, \"\\nTaux avec 5 voisins = \", taux5, \"\\n\")"
      ],
      "execution_count": null,
      "outputs": [
        {
          "output_type": "stream",
          "text": [
            "[[ 7 15  0]\n",
            " [ 0 12  0]\n",
            " [33 13 40]] \n",
            "Taux avec 1 voisin =  0.49166666666666664 \n",
            "\n",
            "[[ 1 10  0]\n",
            " [ 0 10  1]\n",
            " [39 20 39]] \n",
            "Taux avec 3 voisins =  0.4166666666666667 \n",
            "\n",
            "[[ 0  9  0]\n",
            " [ 0  7  1]\n",
            " [40 24 39]] \n",
            "Taux avec 5 voisins =  0.38333333333333336 \n",
            "\n"
          ],
          "name": "stdout"
        }
      ]
    },
    {
      "cell_type": "markdown",
      "metadata": {
        "id": "ypCv__FgWpcg"
      },
      "source": [
        "# Partie III : Classification par Forêts aléatoires\n",
        "\n",
        "Les forêts aléatoires font partie des techniques d'apprentissage automatique. Cet algorithme combine les concepts de sous-espaces aléatoires et de bagging. L'algorithme des forêts d'arbres décisionnels effectue un apprentissage sur de multiples arbres de décision entraînés sur des sous-ensembles de données légèrement différents."
      ]
    },
    {
      "cell_type": "code",
      "metadata": {
        "id": "YQ2-zKg0Wpcg"
      },
      "source": [
        "from sklearn.ensemble import RandomForestClassifier "
      ],
      "execution_count": null,
      "outputs": []
    },
    {
      "cell_type": "code",
      "metadata": {
        "id": "wV3uGfdyWpch",
        "outputId": "c1fd5e9e-def9-4eb5-adc7-3e007a14f512"
      },
      "source": [
        "rfc = RandomForestClassifier()\n",
        "rfc.fit(DataApp, Label_App)\n",
        "preds = rfc.predict(DataTest)\n",
        "\n",
        "cm = confusion_matrix(preds, Label_Test)\n",
        "taux = (cm[0,0] + cm[1,1] + cm[2,2])/(DataTest.shape[0])\n",
        "print(cm, \"\\nTaux avec Random Forest =\", taux)"
      ],
      "execution_count": null,
      "outputs": [
        {
          "output_type": "stream",
          "text": [
            "[[19 13  1]\n",
            " [ 4 24  1]\n",
            " [17  3 38]] \n",
            "Taux avec Random Forest = 0.675\n"
          ],
          "name": "stdout"
        }
      ]
    },
    {
      "cell_type": "markdown",
      "metadata": {
        "id": "f7-kiMWsWpch"
      },
      "source": [
        "**Evaluation de la classification**\n",
        "\n",
        "La performance des forêts aléatoires peut être estimée par : \n",
        "- **Accuracy score :** évaluation de la précision c'est-à-dire du nombre de données bien classées.\n",
        "- **Out-of-bag estimate :**  méthode de mesure de l'erreur de prédiction des forêts aléatoires, des arbres de décision renforcés et d'autres modèles d'apprentissage utilisant l'agrégation bootstrap pour sous-échantillonner les données d'apprentissage. L'OOB est l'erreur moyenne de prédiction sur chaque échantillon d'apprentissage xᵢ, en utilisant uniquement les arbres qui n'avaient pas xᵢ dans leur échantillon bootstrap \n",
        "\n",
        "\n"
      ]
    },
    {
      "cell_type": "markdown",
      "metadata": {
        "id": "M19E_A8LWpci"
      },
      "source": [
        "# Partie IV : Classification par réseaux de neurones\n",
        "\n",
        "1. Réaliser une classification via les réseaux de neurones\n",
        "2. Evaluer les résultats par matrice de confusion par exemple, fonction de perte...\n",
        "3. Tester différentes architectures et différentes solveurs"
      ]
    },
    {
      "cell_type": "code",
      "metadata": {
        "id": "wrsX2juBWpcj"
      },
      "source": [
        "from sklearn.neural_network import MLPClassifier"
      ],
      "execution_count": null,
      "outputs": []
    },
    {
      "cell_type": "code",
      "metadata": {
        "id": "GXqrkZ81Wpcj",
        "outputId": "e3deaa5d-2cb6-4fea-c498-14fcc35e69ee"
      },
      "source": [
        "cNN = MLPClassifier(random_state=1, max_iter=300).fit(DataApp, Label_App)\n",
        "predictNN = cNN.predict(DataTest)\n",
        "\n",
        "cmNN = confusion_matrix(predictNN, Label_Test)\n",
        "tauxNN = (cmNN[0,0] + cmNN[1,1] + cmNN[2,2])/(DataTest.shape[0])\n",
        "print(cmNN, \"\\nTaux avec réseau de neurones =\", tauxNN)"
      ],
      "execution_count": null,
      "outputs": [
        {
          "output_type": "stream",
          "text": [
            "[[28 16  1]\n",
            " [ 5 20  0]\n",
            " [ 7  4 39]] \n",
            "Taux avec réseau de neurones = 0.725\n"
          ],
          "name": "stdout"
        }
      ]
    },
    {
      "cell_type": "markdown",
      "metadata": {
        "id": "JOZwx2SRWpcj"
      },
      "source": [
        "# Partie V : votre étude\n",
        "\n",
        "Réalisez votre propre étude en :\n",
        "- en augmentant les bases de test et/ou d'apprentissage et/ou la durée des segments \n",
        "- en proposant des variantes des méthodes proposées ou en utilisant d'autres\n",
        "- en rajoutant davantage de classes (jusqu'à 3 supplémentaires : 4-Debout, 5-Monter ou 6-Marcher ) \n",
        "le tout en testant les différentes approches et en interprétant les résultats, à synthétiser sur un rapport. \n",
        "\n",
        "\n"
      ]
    },
    {
      "cell_type": "code",
      "metadata": {
        "id": "YA7Q1olKWpck"
      },
      "source": [
        "import matplotlib.pyplot as plt\n",
        "import numpy as np\n",
        "import sklearn\n",
        "import pandas as pd\n",
        "import math\n",
        "from scipy import stats\n",
        "import seaborn as sns"
      ],
      "execution_count": 8,
      "outputs": []
    },
    {
      "cell_type": "code",
      "metadata": {
        "id": "0Ssu1sJsWpck",
        "colab": {
          "base_uri": "https://localhost:8080/"
        },
        "outputId": "885c1e44-4549-49e8-a0f5-1d3bfc2d4921"
      },
      "source": [
        "COLUMN_NAMES = [\n",
        "    'user',\n",
        "    'activity',\n",
        "    'timestamp',\n",
        "    'x-axis',\n",
        "    'y-axis',\n",
        "    'z-axis'\n",
        "]\n",
        "\n",
        "LABELS = [\n",
        "    'Downstairs',\n",
        "    'Jogging',\n",
        "    'Sitting',\n",
        "    'Standing',\n",
        "    'Upstairs',\n",
        "    'Walking'\n",
        "]\n",
        "\n",
        "DATA_PATH = './WISDM_ar_v1.1_raw.txt'\n",
        "\n",
        "# Data preprocessing\n",
        "TIME_STEP = 60"
      ],
      "execution_count": 9,
      "outputs": []
    },
    {
      "cell_type": "markdown",
      "metadata": {
        "id": "qFilsfTEWpck"
      },
      "source": [
        "## **   Reprise du travail précédent en pré-traitant la donnée**\n",
        "\n",
        "Dans cette partie, nous varierons les données (taille de segment, taille de données d'apprentissage et taille de données de test) afin de prévoir le jeu de données optimal permettant d'avoir de meilleurs scores de reconnaissance\n",
        "\n",
        "### **  1. Mise en place d'une fonction permettant de générer le jeu de donées:**\n",
        "\n",
        "NB: on applique l'ACP sur la donnée en fin d'exécution de la fonction afin qu'on puisse directement passer à la partie d'entrainement du modèle"
      ]
    },
    {
      "cell_type": "code",
      "metadata": {
        "id": "ueyijlyPWpck"
      },
      "source": [
        "from sklearn.decomposition import PCA"
      ],
      "execution_count": 10,
      "outputs": []
    },
    {
      "cell_type": "code",
      "metadata": {
        "id": "0pqdoyG_Wpcl"
      },
      "source": [
        "def generer(N_CLASSES = 3, N_FEATURES = 3, SEGMENT_TIME_SIZE = 30, TAILLE_TEST = 40, TAILLE_APP = 20):\n",
        "\n",
        "    # Chargement DATA\n",
        "    data = pd.read_csv(DATA_PATH, header=None, names=COLUMN_NAMES)\n",
        "    data['z-axis'].replace({';': ''}, regex=True, inplace=True)\n",
        "    data = data.dropna()\n",
        "\n",
        "\n",
        "    data_convoluted = []\n",
        "    labels = []\n",
        "\n",
        "\n",
        "\n",
        "    # Prendre des segments temporels de taille SEGMENT_TIME_SIZE \n",
        "    # tous les TIME_STEP pour une même activité\n",
        "    for j in range(0,N_CLASSES):\n",
        "        DataBest=data[data['activity'] == LABELS[j]]\n",
        "        for i in range(0, len(DataBest) - SEGMENT_TIME_SIZE, TIME_STEP):\n",
        "            x = DataBest['x-axis'].values[i: i + SEGMENT_TIME_SIZE]\n",
        "            y = DataBest['y-axis'].values[i: i + SEGMENT_TIME_SIZE]\n",
        "            z = DataBest['z-axis'].values[i: i + SEGMENT_TIME_SIZE]\n",
        "            data_convoluted.append([x, y, z])\n",
        "        # Label de l'activité associée à chaque segment\n",
        "            label = j\n",
        "            labels.append(label)\n",
        "\n",
        "\n",
        "    # Conversion numpy\n",
        "    data_convoluted = np.asarray(data_convoluted, dtype=np.float32).transpose(0, 2, 1)\n",
        "\n",
        "    labels = np.asarray(labels, dtype=np.int)\n",
        "\n",
        "\n",
        "\n",
        "    profil_median=np.zeros((N_CLASSES,SEGMENT_TIME_SIZE,N_FEATURES))\n",
        "    List_Data_Test=np.zeros(N_CLASSES*TAILLE_TEST)\n",
        "    Data_Test=np.zeros((N_CLASSES*TAILLE_TEST,SEGMENT_TIME_SIZE*N_FEATURES))\n",
        "    Data_App=np.zeros((TAILLE_APP*N_CLASSES,SEGMENT_TIME_SIZE*N_FEATURES))\n",
        "    Label_Test=np.zeros(N_CLASSES*TAILLE_TEST)\n",
        "    Label_App=np.zeros(N_CLASSES*TAILLE_APP)\n",
        "\n",
        "    for i in range(N_CLASSES):\n",
        "        # Selection des données correspondant à la classe i\n",
        "        res=np.where(labels==i)\n",
        "        res=np.array(res)\n",
        "        res=np.ravel(res)\n",
        "        taille=res.shape[0]\n",
        "        \n",
        "        # Création de la base de Test\n",
        "        tirage=np.random.randint(0,taille,TAILLE_TEST)\n",
        "        List_Data_Test[i*TAILLE_TEST:(i+1)*TAILLE_TEST]=res[tirage[0:TAILLE_TEST]]\n",
        "        Label_Test[i*TAILLE_TEST:(i+1)*TAILLE_TEST]=i\n",
        "        tir_dataTest=data_convoluted[res[tirage[0:TAILLE_TEST]],:,:]\n",
        "        Data_Test[i*TAILLE_TEST:(i+1)*TAILLE_TEST,:]=np.reshape(tir_dataTest,(TAILLE_TEST,SEGMENT_TIME_SIZE*N_FEATURES))\n",
        "        \n",
        "        \n",
        "        # Création de la base d'Apprentissage\n",
        "        tirage1=np.random.randint(0,taille,TAILLE_APP)\n",
        "        tir_dataApp=data_convoluted[res[tirage1[0:TAILLE_APP]],:,:]\n",
        "        Data_App[i*TAILLE_APP:(i+1)*TAILLE_APP,:]=np.reshape(tir_dataApp,(TAILLE_APP,SEGMENT_TIME_SIZE*N_FEATURES))\n",
        "        Label_App[i*TAILLE_APP:(i+1)*TAILLE_APP]=i\n",
        "        \n",
        "        # Affichage du profil temporel moyen de la classe\n",
        "        class1=np.median(tir_dataApp,axis=0)\n",
        "        profil_median[i,:,:]=class1\n",
        "\n",
        "    pca = PCA(n_components = 3)\n",
        "    pca.fit(Data_App)\n",
        "    axes = pca.singular_values_\n",
        "    DataApp = np.dot(Data_App.reshape(Data_App.shape[0],Data_App.shape[1]//3,3), axes.transpose())\n",
        "    DataTest = np.dot(Data_Test.reshape(Data_Test.shape[0],Data_Test.shape[1]//3,3), axes.transpose())\n",
        "    return [DataApp, DataTest, Label_App, Label_Test]"
      ],
      "execution_count": 11,
      "outputs": []
    },
    {
      "cell_type": "markdown",
      "metadata": {
        "id": "3Iw8CjioWpcm"
      },
      "source": [
        "### **2. Reprise des algorithmes d'apprentissage utilisés dans les premières parties**"
      ]
    },
    {
      "cell_type": "code",
      "metadata": {
        "id": "1UqeJuG6Wpcn"
      },
      "source": [
        "from sklearn.neighbors import KNeighborsClassifier\n",
        "from sklearn.ensemble import RandomForestClassifier \n",
        "from sklearn.neural_network import MLPClassifier\n",
        "from sklearn.metrics import confusion_matrix"
      ],
      "execution_count": 12,
      "outputs": []
    },
    {
      "cell_type": "code",
      "metadata": {
        "id": "Y0CmiL-FWpcn"
      },
      "source": [
        "def prediction_KNN(n_neighbors = 1, weights = 'uniform', algorithm = 'auto'):\n",
        "    knn = KNeighborsClassifier(n_neighbors = n_neighbors, weights = weights, algorithm = algorithm)\n",
        "\n",
        "    knn.fit(DataApp, Label_App)\n",
        "\n",
        "    prediction = knn.predict(DataTest)\n",
        "\n",
        "    cm = confusion_matrix(prediction, Label_Test)\n",
        "    taux = (cm[0,0] + cm[1,1] + cm[2,2])/(DataTest.shape[0])\n",
        "\n",
        "    return taux\n",
        "\n",
        "def prediction_RFC(n_estimators = 100, criterion = 'gini', max_depth = None):\n",
        "    rfc = RandomForestClassifier(n_estimators = n_estimators, criterion = criterion, max_depth = max_depth)\n",
        "    rfc.fit(DataApp, Label_App)\n",
        "    preds = rfc.predict(DataTest)\n",
        "\n",
        "    cm = confusion_matrix(preds, Label_Test)\n",
        "    taux = (cm[0,0] + cm[1,1] + cm[2,2])/(DataTest.shape[0])\n",
        "\n",
        "    return taux\n",
        "\n",
        "def prediction_NN(random_state=1, max_iter=300):\n",
        "    NN = MLPClassifier(random_state = random_state, max_iter = max_iter).fit(DataApp, Label_App)\n",
        "    predictNN = NN.predict(DataTest)\n",
        "\n",
        "    cm = confusion_matrix(predictNN, Label_Test)\n",
        "    taux = (cm[0,0] + cm[1,1] + cm[2,2])/(DataTest.shape[0])\n",
        "\n",
        "    return taux"
      ],
      "execution_count": 13,
      "outputs": []
    },
    {
      "cell_type": "markdown",
      "metadata": {
        "id": "rSQxMATmWpcn"
      },
      "source": [
        "### **3. Résultats de la simulation**\n",
        "\n",
        "NB: tous les résultats seront interprétés dans le rapport joint à ce notebook\n",
        "\n",
        "\n",
        "#### **3.1 Variation de la taille des données de test**"
      ]
    },
    {
      "cell_type": "code",
      "metadata": {
        "id": "vmS_iH0FWpcn",
        "colab": {
          "base_uri": "https://localhost:8080/",
          "height": 295
        },
        "outputId": "cf4a372c-032a-4055-f858-973ceee39d1c"
      },
      "source": [
        "tauxTest = {\"KNN\":{}, \"RFC\":{}, \"NN\":{}}\n",
        "\n",
        "for i in range(9):\n",
        "    [DataApp, DataTest, Label_App, Label_Test] = generer(TAILLE_TEST = 10 + 10*i)\n",
        "    tauxTest[\"KNN\"][str(10 + 10*i)] = prediction_KNN()\n",
        "    tauxTest[\"RFC\"][str(10 + 10*i)] = prediction_RFC()\n",
        "    tauxTest[\"NN\"][str(10 + 10*i)] = prediction_NN()\n",
        "\n",
        "listOrdKNN = sorted(tauxTest[\"KNN\"].items())\n",
        "listOrdRFC = sorted(tauxTest[\"RFC\"].items())\n",
        "listOrdNN = sorted(tauxTest[\"NN\"].items())\n",
        "x_KNN, y_KNN = zip(*listOrdKNN)\n",
        "x_RFC, y_RFC = zip(*listOrdRFC)\n",
        "x_NN, y_NN = zip(*listOrdNN)\n",
        "\n",
        "plt.plot(x_KNN, y_KNN, label=\"KNN\")\n",
        "plt.plot(x_RFC, y_RFC, label=\"RFC\")\n",
        "plt.plot(x_NN, y_NN, label=\"NN\")\n",
        "\n",
        "plt.title('Influence de la taille des données de test')\n",
        "plt.xlabel(\"Taille des données de tests\")\n",
        "plt.ylabel(\"Taux de reconnaissance ou score\")\n",
        "plt.legend()\n",
        "plt.show()\n"
      ],
      "execution_count": 14,
      "outputs": [
        {
          "output_type": "display_data",
          "data": {
            "text/plain": "<Figure size 432x288 with 1 Axes>",
            "image/svg+xml": "<?xml version=\"1.0\" encoding=\"utf-8\" standalone=\"no\"?>\n<!DOCTYPE svg PUBLIC \"-//W3C//DTD SVG 1.1//EN\"\n  \"http://www.w3.org/Graphics/SVG/1.1/DTD/svg11.dtd\">\n<!-- Created with matplotlib (https://matplotlib.org/) -->\n<svg height=\"277.314375pt\" version=\"1.1\" viewBox=\"0 0 392.14375 277.314375\" width=\"392.14375pt\" xmlns=\"http://www.w3.org/2000/svg\" xmlns:xlink=\"http://www.w3.org/1999/xlink\">\n <defs>\n  <style type=\"text/css\">\n*{stroke-linecap:butt;stroke-linejoin:round;}\n  </style>\n </defs>\n <g id=\"figure_1\">\n  <g id=\"patch_1\">\n   <path d=\"M -0 277.314375 \nL 392.14375 277.314375 \nL 392.14375 0 \nL -0 0 \nz\n\" style=\"fill:none;\"/>\n  </g>\n  <g id=\"axes_1\">\n   <g id=\"patch_2\">\n    <path d=\"M 50.14375 239.758125 \nL 384.94375 239.758125 \nL 384.94375 22.318125 \nL 50.14375 22.318125 \nz\n\" style=\"fill:#ffffff;\"/>\n   </g>\n   <g id=\"matplotlib.axis_1\">\n    <g id=\"xtick_1\">\n     <g id=\"line2d_1\">\n      <defs>\n       <path d=\"M 0 0 \nL 0 3.5 \n\" id=\"mab0966a5d6\" style=\"stroke:#000000;stroke-width:0.8;\"/>\n      </defs>\n      <g>\n       <use style=\"stroke:#000000;stroke-width:0.8;\" x=\"65.361932\" xlink:href=\"#mab0966a5d6\" y=\"239.758125\"/>\n      </g>\n     </g>\n     <g id=\"text_1\">\n      <!-- 10 -->\n      <defs>\n       <path d=\"M 12.40625 8.296875 \nL 28.515625 8.296875 \nL 28.515625 63.921875 \nL 10.984375 60.40625 \nL 10.984375 69.390625 \nL 28.421875 72.90625 \nL 38.28125 72.90625 \nL 38.28125 8.296875 \nL 54.390625 8.296875 \nL 54.390625 0 \nL 12.40625 0 \nz\n\" id=\"DejaVuSans-49\"/>\n       <path d=\"M 31.78125 66.40625 \nQ 24.171875 66.40625 20.328125 58.90625 \nQ 16.5 51.421875 16.5 36.375 \nQ 16.5 21.390625 20.328125 13.890625 \nQ 24.171875 6.390625 31.78125 6.390625 \nQ 39.453125 6.390625 43.28125 13.890625 \nQ 47.125 21.390625 47.125 36.375 \nQ 47.125 51.421875 43.28125 58.90625 \nQ 39.453125 66.40625 31.78125 66.40625 \nz\nM 31.78125 74.21875 \nQ 44.046875 74.21875 50.515625 64.515625 \nQ 56.984375 54.828125 56.984375 36.375 \nQ 56.984375 17.96875 50.515625 8.265625 \nQ 44.046875 -1.421875 31.78125 -1.421875 \nQ 19.53125 -1.421875 13.0625 8.265625 \nQ 6.59375 17.96875 6.59375 36.375 \nQ 6.59375 54.828125 13.0625 64.515625 \nQ 19.53125 74.21875 31.78125 74.21875 \nz\n\" id=\"DejaVuSans-48\"/>\n      </defs>\n      <g transform=\"translate(58.999432 254.356562)scale(0.1 -0.1)\">\n       <use xlink:href=\"#DejaVuSans-49\"/>\n       <use x=\"63.623047\" xlink:href=\"#DejaVuSans-48\"/>\n      </g>\n     </g>\n    </g>\n    <g id=\"xtick_2\">\n     <g id=\"line2d_2\">\n      <g>\n       <use style=\"stroke:#000000;stroke-width:0.8;\" x=\"103.407386\" xlink:href=\"#mab0966a5d6\" y=\"239.758125\"/>\n      </g>\n     </g>\n     <g id=\"text_2\">\n      <!-- 20 -->\n      <defs>\n       <path d=\"M 19.1875 8.296875 \nL 53.609375 8.296875 \nL 53.609375 0 \nL 7.328125 0 \nL 7.328125 8.296875 \nQ 12.9375 14.109375 22.625 23.890625 \nQ 32.328125 33.6875 34.8125 36.53125 \nQ 39.546875 41.84375 41.421875 45.53125 \nQ 43.3125 49.21875 43.3125 52.78125 \nQ 43.3125 58.59375 39.234375 62.25 \nQ 35.15625 65.921875 28.609375 65.921875 \nQ 23.96875 65.921875 18.8125 64.3125 \nQ 13.671875 62.703125 7.8125 59.421875 \nL 7.8125 69.390625 \nQ 13.765625 71.78125 18.9375 73 \nQ 24.125 74.21875 28.421875 74.21875 \nQ 39.75 74.21875 46.484375 68.546875 \nQ 53.21875 62.890625 53.21875 53.421875 \nQ 53.21875 48.921875 51.53125 44.890625 \nQ 49.859375 40.875 45.40625 35.40625 \nQ 44.1875 33.984375 37.640625 27.21875 \nQ 31.109375 20.453125 19.1875 8.296875 \nz\n\" id=\"DejaVuSans-50\"/>\n      </defs>\n      <g transform=\"translate(97.044886 254.356562)scale(0.1 -0.1)\">\n       <use xlink:href=\"#DejaVuSans-50\"/>\n       <use x=\"63.623047\" xlink:href=\"#DejaVuSans-48\"/>\n      </g>\n     </g>\n    </g>\n    <g id=\"xtick_3\">\n     <g id=\"line2d_3\">\n      <g>\n       <use style=\"stroke:#000000;stroke-width:0.8;\" x=\"141.452841\" xlink:href=\"#mab0966a5d6\" y=\"239.758125\"/>\n      </g>\n     </g>\n     <g id=\"text_3\">\n      <!-- 30 -->\n      <defs>\n       <path d=\"M 40.578125 39.3125 \nQ 47.65625 37.796875 51.625 33 \nQ 55.609375 28.21875 55.609375 21.1875 \nQ 55.609375 10.40625 48.1875 4.484375 \nQ 40.765625 -1.421875 27.09375 -1.421875 \nQ 22.515625 -1.421875 17.65625 -0.515625 \nQ 12.796875 0.390625 7.625 2.203125 \nL 7.625 11.71875 \nQ 11.71875 9.328125 16.59375 8.109375 \nQ 21.484375 6.890625 26.8125 6.890625 \nQ 36.078125 6.890625 40.9375 10.546875 \nQ 45.796875 14.203125 45.796875 21.1875 \nQ 45.796875 27.640625 41.28125 31.265625 \nQ 36.765625 34.90625 28.71875 34.90625 \nL 20.21875 34.90625 \nL 20.21875 43.015625 \nL 29.109375 43.015625 \nQ 36.375 43.015625 40.234375 45.921875 \nQ 44.09375 48.828125 44.09375 54.296875 \nQ 44.09375 59.90625 40.109375 62.90625 \nQ 36.140625 65.921875 28.71875 65.921875 \nQ 24.65625 65.921875 20.015625 65.03125 \nQ 15.375 64.15625 9.8125 62.3125 \nL 9.8125 71.09375 \nQ 15.4375 72.65625 20.34375 73.4375 \nQ 25.25 74.21875 29.59375 74.21875 \nQ 40.828125 74.21875 47.359375 69.109375 \nQ 53.90625 64.015625 53.90625 55.328125 \nQ 53.90625 49.265625 50.4375 45.09375 \nQ 46.96875 40.921875 40.578125 39.3125 \nz\n\" id=\"DejaVuSans-51\"/>\n      </defs>\n      <g transform=\"translate(135.090341 254.356562)scale(0.1 -0.1)\">\n       <use xlink:href=\"#DejaVuSans-51\"/>\n       <use x=\"63.623047\" xlink:href=\"#DejaVuSans-48\"/>\n      </g>\n     </g>\n    </g>\n    <g id=\"xtick_4\">\n     <g id=\"line2d_4\">\n      <g>\n       <use style=\"stroke:#000000;stroke-width:0.8;\" x=\"179.498295\" xlink:href=\"#mab0966a5d6\" y=\"239.758125\"/>\n      </g>\n     </g>\n     <g id=\"text_4\">\n      <!-- 40 -->\n      <defs>\n       <path d=\"M 37.796875 64.3125 \nL 12.890625 25.390625 \nL 37.796875 25.390625 \nz\nM 35.203125 72.90625 \nL 47.609375 72.90625 \nL 47.609375 25.390625 \nL 58.015625 25.390625 \nL 58.015625 17.1875 \nL 47.609375 17.1875 \nL 47.609375 0 \nL 37.796875 0 \nL 37.796875 17.1875 \nL 4.890625 17.1875 \nL 4.890625 26.703125 \nz\n\" id=\"DejaVuSans-52\"/>\n      </defs>\n      <g transform=\"translate(173.135795 254.356562)scale(0.1 -0.1)\">\n       <use xlink:href=\"#DejaVuSans-52\"/>\n       <use x=\"63.623047\" xlink:href=\"#DejaVuSans-48\"/>\n      </g>\n     </g>\n    </g>\n    <g id=\"xtick_5\">\n     <g id=\"line2d_5\">\n      <g>\n       <use style=\"stroke:#000000;stroke-width:0.8;\" x=\"217.54375\" xlink:href=\"#mab0966a5d6\" y=\"239.758125\"/>\n      </g>\n     </g>\n     <g id=\"text_5\">\n      <!-- 50 -->\n      <defs>\n       <path d=\"M 10.796875 72.90625 \nL 49.515625 72.90625 \nL 49.515625 64.59375 \nL 19.828125 64.59375 \nL 19.828125 46.734375 \nQ 21.96875 47.46875 24.109375 47.828125 \nQ 26.265625 48.1875 28.421875 48.1875 \nQ 40.625 48.1875 47.75 41.5 \nQ 54.890625 34.8125 54.890625 23.390625 \nQ 54.890625 11.625 47.5625 5.09375 \nQ 40.234375 -1.421875 26.90625 -1.421875 \nQ 22.3125 -1.421875 17.546875 -0.640625 \nQ 12.796875 0.140625 7.71875 1.703125 \nL 7.71875 11.625 \nQ 12.109375 9.234375 16.796875 8.0625 \nQ 21.484375 6.890625 26.703125 6.890625 \nQ 35.15625 6.890625 40.078125 11.328125 \nQ 45.015625 15.765625 45.015625 23.390625 \nQ 45.015625 31 40.078125 35.4375 \nQ 35.15625 39.890625 26.703125 39.890625 \nQ 22.75 39.890625 18.8125 39.015625 \nQ 14.890625 38.140625 10.796875 36.28125 \nz\n\" id=\"DejaVuSans-53\"/>\n      </defs>\n      <g transform=\"translate(211.18125 254.356562)scale(0.1 -0.1)\">\n       <use xlink:href=\"#DejaVuSans-53\"/>\n       <use x=\"63.623047\" xlink:href=\"#DejaVuSans-48\"/>\n      </g>\n     </g>\n    </g>\n    <g id=\"xtick_6\">\n     <g id=\"line2d_6\">\n      <g>\n       <use style=\"stroke:#000000;stroke-width:0.8;\" x=\"255.589205\" xlink:href=\"#mab0966a5d6\" y=\"239.758125\"/>\n      </g>\n     </g>\n     <g id=\"text_6\">\n      <!-- 60 -->\n      <defs>\n       <path d=\"M 33.015625 40.375 \nQ 26.375 40.375 22.484375 35.828125 \nQ 18.609375 31.296875 18.609375 23.390625 \nQ 18.609375 15.53125 22.484375 10.953125 \nQ 26.375 6.390625 33.015625 6.390625 \nQ 39.65625 6.390625 43.53125 10.953125 \nQ 47.40625 15.53125 47.40625 23.390625 \nQ 47.40625 31.296875 43.53125 35.828125 \nQ 39.65625 40.375 33.015625 40.375 \nz\nM 52.59375 71.296875 \nL 52.59375 62.3125 \nQ 48.875 64.0625 45.09375 64.984375 \nQ 41.3125 65.921875 37.59375 65.921875 \nQ 27.828125 65.921875 22.671875 59.328125 \nQ 17.53125 52.734375 16.796875 39.40625 \nQ 19.671875 43.65625 24.015625 45.921875 \nQ 28.375 48.1875 33.59375 48.1875 \nQ 44.578125 48.1875 50.953125 41.515625 \nQ 57.328125 34.859375 57.328125 23.390625 \nQ 57.328125 12.15625 50.6875 5.359375 \nQ 44.046875 -1.421875 33.015625 -1.421875 \nQ 20.359375 -1.421875 13.671875 8.265625 \nQ 6.984375 17.96875 6.984375 36.375 \nQ 6.984375 53.65625 15.1875 63.9375 \nQ 23.390625 74.21875 37.203125 74.21875 \nQ 40.921875 74.21875 44.703125 73.484375 \nQ 48.484375 72.75 52.59375 71.296875 \nz\n\" id=\"DejaVuSans-54\"/>\n      </defs>\n      <g transform=\"translate(249.226705 254.356562)scale(0.1 -0.1)\">\n       <use xlink:href=\"#DejaVuSans-54\"/>\n       <use x=\"63.623047\" xlink:href=\"#DejaVuSans-48\"/>\n      </g>\n     </g>\n    </g>\n    <g id=\"xtick_7\">\n     <g id=\"line2d_7\">\n      <g>\n       <use style=\"stroke:#000000;stroke-width:0.8;\" x=\"293.634659\" xlink:href=\"#mab0966a5d6\" y=\"239.758125\"/>\n      </g>\n     </g>\n     <g id=\"text_7\">\n      <!-- 70 -->\n      <defs>\n       <path d=\"M 8.203125 72.90625 \nL 55.078125 72.90625 \nL 55.078125 68.703125 \nL 28.609375 0 \nL 18.3125 0 \nL 43.21875 64.59375 \nL 8.203125 64.59375 \nz\n\" id=\"DejaVuSans-55\"/>\n      </defs>\n      <g transform=\"translate(287.272159 254.356562)scale(0.1 -0.1)\">\n       <use xlink:href=\"#DejaVuSans-55\"/>\n       <use x=\"63.623047\" xlink:href=\"#DejaVuSans-48\"/>\n      </g>\n     </g>\n    </g>\n    <g id=\"xtick_8\">\n     <g id=\"line2d_8\">\n      <g>\n       <use style=\"stroke:#000000;stroke-width:0.8;\" x=\"331.680114\" xlink:href=\"#mab0966a5d6\" y=\"239.758125\"/>\n      </g>\n     </g>\n     <g id=\"text_8\">\n      <!-- 80 -->\n      <defs>\n       <path d=\"M 31.78125 34.625 \nQ 24.75 34.625 20.71875 30.859375 \nQ 16.703125 27.09375 16.703125 20.515625 \nQ 16.703125 13.921875 20.71875 10.15625 \nQ 24.75 6.390625 31.78125 6.390625 \nQ 38.8125 6.390625 42.859375 10.171875 \nQ 46.921875 13.96875 46.921875 20.515625 \nQ 46.921875 27.09375 42.890625 30.859375 \nQ 38.875 34.625 31.78125 34.625 \nz\nM 21.921875 38.8125 \nQ 15.578125 40.375 12.03125 44.71875 \nQ 8.5 49.078125 8.5 55.328125 \nQ 8.5 64.0625 14.71875 69.140625 \nQ 20.953125 74.21875 31.78125 74.21875 \nQ 42.671875 74.21875 48.875 69.140625 \nQ 55.078125 64.0625 55.078125 55.328125 \nQ 55.078125 49.078125 51.53125 44.71875 \nQ 48 40.375 41.703125 38.8125 \nQ 48.828125 37.15625 52.796875 32.3125 \nQ 56.78125 27.484375 56.78125 20.515625 \nQ 56.78125 9.90625 50.3125 4.234375 \nQ 43.84375 -1.421875 31.78125 -1.421875 \nQ 19.734375 -1.421875 13.25 4.234375 \nQ 6.78125 9.90625 6.78125 20.515625 \nQ 6.78125 27.484375 10.78125 32.3125 \nQ 14.796875 37.15625 21.921875 38.8125 \nz\nM 18.3125 54.390625 \nQ 18.3125 48.734375 21.84375 45.5625 \nQ 25.390625 42.390625 31.78125 42.390625 \nQ 38.140625 42.390625 41.71875 45.5625 \nQ 45.3125 48.734375 45.3125 54.390625 \nQ 45.3125 60.0625 41.71875 63.234375 \nQ 38.140625 66.40625 31.78125 66.40625 \nQ 25.390625 66.40625 21.84375 63.234375 \nQ 18.3125 60.0625 18.3125 54.390625 \nz\n\" id=\"DejaVuSans-56\"/>\n      </defs>\n      <g transform=\"translate(325.317614 254.356562)scale(0.1 -0.1)\">\n       <use xlink:href=\"#DejaVuSans-56\"/>\n       <use x=\"63.623047\" xlink:href=\"#DejaVuSans-48\"/>\n      </g>\n     </g>\n    </g>\n    <g id=\"xtick_9\">\n     <g id=\"line2d_9\">\n      <g>\n       <use style=\"stroke:#000000;stroke-width:0.8;\" x=\"369.725568\" xlink:href=\"#mab0966a5d6\" y=\"239.758125\"/>\n      </g>\n     </g>\n     <g id=\"text_9\">\n      <!-- 90 -->\n      <defs>\n       <path d=\"M 10.984375 1.515625 \nL 10.984375 10.5 \nQ 14.703125 8.734375 18.5 7.8125 \nQ 22.3125 6.890625 25.984375 6.890625 \nQ 35.75 6.890625 40.890625 13.453125 \nQ 46.046875 20.015625 46.78125 33.40625 \nQ 43.953125 29.203125 39.59375 26.953125 \nQ 35.25 24.703125 29.984375 24.703125 \nQ 19.046875 24.703125 12.671875 31.3125 \nQ 6.296875 37.9375 6.296875 49.421875 \nQ 6.296875 60.640625 12.9375 67.421875 \nQ 19.578125 74.21875 30.609375 74.21875 \nQ 43.265625 74.21875 49.921875 64.515625 \nQ 56.59375 54.828125 56.59375 36.375 \nQ 56.59375 19.140625 48.40625 8.859375 \nQ 40.234375 -1.421875 26.421875 -1.421875 \nQ 22.703125 -1.421875 18.890625 -0.6875 \nQ 15.09375 0.046875 10.984375 1.515625 \nz\nM 30.609375 32.421875 \nQ 37.25 32.421875 41.125 36.953125 \nQ 45.015625 41.5 45.015625 49.421875 \nQ 45.015625 57.28125 41.125 61.84375 \nQ 37.25 66.40625 30.609375 66.40625 \nQ 23.96875 66.40625 20.09375 61.84375 \nQ 16.21875 57.28125 16.21875 49.421875 \nQ 16.21875 41.5 20.09375 36.953125 \nQ 23.96875 32.421875 30.609375 32.421875 \nz\n\" id=\"DejaVuSans-57\"/>\n      </defs>\n      <g transform=\"translate(363.363068 254.356562)scale(0.1 -0.1)\">\n       <use xlink:href=\"#DejaVuSans-57\"/>\n       <use x=\"63.623047\" xlink:href=\"#DejaVuSans-48\"/>\n      </g>\n     </g>\n    </g>\n    <g id=\"text_10\">\n     <!-- Taille des données de tests -->\n     <defs>\n      <path d=\"M -0.296875 72.90625 \nL 61.375 72.90625 \nL 61.375 64.59375 \nL 35.5 64.59375 \nL 35.5 0 \nL 25.59375 0 \nL 25.59375 64.59375 \nL -0.296875 64.59375 \nz\n\" id=\"DejaVuSans-84\"/>\n      <path d=\"M 34.28125 27.484375 \nQ 23.390625 27.484375 19.1875 25 \nQ 14.984375 22.515625 14.984375 16.5 \nQ 14.984375 11.71875 18.140625 8.90625 \nQ 21.296875 6.109375 26.703125 6.109375 \nQ 34.1875 6.109375 38.703125 11.40625 \nQ 43.21875 16.703125 43.21875 25.484375 \nL 43.21875 27.484375 \nz\nM 52.203125 31.203125 \nL 52.203125 0 \nL 43.21875 0 \nL 43.21875 8.296875 \nQ 40.140625 3.328125 35.546875 0.953125 \nQ 30.953125 -1.421875 24.3125 -1.421875 \nQ 15.921875 -1.421875 10.953125 3.296875 \nQ 6 8.015625 6 15.921875 \nQ 6 25.140625 12.171875 29.828125 \nQ 18.359375 34.515625 30.609375 34.515625 \nL 43.21875 34.515625 \nL 43.21875 35.40625 \nQ 43.21875 41.609375 39.140625 45 \nQ 35.0625 48.390625 27.6875 48.390625 \nQ 23 48.390625 18.546875 47.265625 \nQ 14.109375 46.140625 10.015625 43.890625 \nL 10.015625 52.203125 \nQ 14.9375 54.109375 19.578125 55.046875 \nQ 24.21875 56 28.609375 56 \nQ 40.484375 56 46.34375 49.84375 \nQ 52.203125 43.703125 52.203125 31.203125 \nz\n\" id=\"DejaVuSans-97\"/>\n      <path d=\"M 9.421875 54.6875 \nL 18.40625 54.6875 \nL 18.40625 0 \nL 9.421875 0 \nz\nM 9.421875 75.984375 \nL 18.40625 75.984375 \nL 18.40625 64.59375 \nL 9.421875 64.59375 \nz\n\" id=\"DejaVuSans-105\"/>\n      <path d=\"M 9.421875 75.984375 \nL 18.40625 75.984375 \nL 18.40625 0 \nL 9.421875 0 \nz\n\" id=\"DejaVuSans-108\"/>\n      <path d=\"M 56.203125 29.59375 \nL 56.203125 25.203125 \nL 14.890625 25.203125 \nQ 15.484375 15.921875 20.484375 11.0625 \nQ 25.484375 6.203125 34.421875 6.203125 \nQ 39.59375 6.203125 44.453125 7.46875 \nQ 49.3125 8.734375 54.109375 11.28125 \nL 54.109375 2.78125 \nQ 49.265625 0.734375 44.1875 -0.34375 \nQ 39.109375 -1.421875 33.890625 -1.421875 \nQ 20.796875 -1.421875 13.15625 6.1875 \nQ 5.515625 13.8125 5.515625 26.8125 \nQ 5.515625 40.234375 12.765625 48.109375 \nQ 20.015625 56 32.328125 56 \nQ 43.359375 56 49.78125 48.890625 \nQ 56.203125 41.796875 56.203125 29.59375 \nz\nM 47.21875 32.234375 \nQ 47.125 39.59375 43.09375 43.984375 \nQ 39.0625 48.390625 32.421875 48.390625 \nQ 24.90625 48.390625 20.390625 44.140625 \nQ 15.875 39.890625 15.1875 32.171875 \nz\n\" id=\"DejaVuSans-101\"/>\n      <path id=\"DejaVuSans-32\"/>\n      <path d=\"M 45.40625 46.390625 \nL 45.40625 75.984375 \nL 54.390625 75.984375 \nL 54.390625 0 \nL 45.40625 0 \nL 45.40625 8.203125 \nQ 42.578125 3.328125 38.25 0.953125 \nQ 33.9375 -1.421875 27.875 -1.421875 \nQ 17.96875 -1.421875 11.734375 6.484375 \nQ 5.515625 14.40625 5.515625 27.296875 \nQ 5.515625 40.1875 11.734375 48.09375 \nQ 17.96875 56 27.875 56 \nQ 33.9375 56 38.25 53.625 \nQ 42.578125 51.265625 45.40625 46.390625 \nz\nM 14.796875 27.296875 \nQ 14.796875 17.390625 18.875 11.75 \nQ 22.953125 6.109375 30.078125 6.109375 \nQ 37.203125 6.109375 41.296875 11.75 \nQ 45.40625 17.390625 45.40625 27.296875 \nQ 45.40625 37.203125 41.296875 42.84375 \nQ 37.203125 48.484375 30.078125 48.484375 \nQ 22.953125 48.484375 18.875 42.84375 \nQ 14.796875 37.203125 14.796875 27.296875 \nz\n\" id=\"DejaVuSans-100\"/>\n      <path d=\"M 44.28125 53.078125 \nL 44.28125 44.578125 \nQ 40.484375 46.53125 36.375 47.5 \nQ 32.28125 48.484375 27.875 48.484375 \nQ 21.1875 48.484375 17.84375 46.4375 \nQ 14.5 44.390625 14.5 40.28125 \nQ 14.5 37.15625 16.890625 35.375 \nQ 19.28125 33.59375 26.515625 31.984375 \nL 29.59375 31.296875 \nQ 39.15625 29.25 43.1875 25.515625 \nQ 47.21875 21.78125 47.21875 15.09375 \nQ 47.21875 7.46875 41.1875 3.015625 \nQ 35.15625 -1.421875 24.609375 -1.421875 \nQ 20.21875 -1.421875 15.453125 -0.5625 \nQ 10.6875 0.296875 5.421875 2 \nL 5.421875 11.28125 \nQ 10.40625 8.6875 15.234375 7.390625 \nQ 20.0625 6.109375 24.8125 6.109375 \nQ 31.15625 6.109375 34.5625 8.28125 \nQ 37.984375 10.453125 37.984375 14.40625 \nQ 37.984375 18.0625 35.515625 20.015625 \nQ 33.0625 21.96875 24.703125 23.78125 \nL 21.578125 24.515625 \nQ 13.234375 26.265625 9.515625 29.90625 \nQ 5.8125 33.546875 5.8125 39.890625 \nQ 5.8125 47.609375 11.28125 51.796875 \nQ 16.75 56 26.8125 56 \nQ 31.78125 56 36.171875 55.265625 \nQ 40.578125 54.546875 44.28125 53.078125 \nz\n\" id=\"DejaVuSans-115\"/>\n      <path d=\"M 30.609375 48.390625 \nQ 23.390625 48.390625 19.1875 42.75 \nQ 14.984375 37.109375 14.984375 27.296875 \nQ 14.984375 17.484375 19.15625 11.84375 \nQ 23.34375 6.203125 30.609375 6.203125 \nQ 37.796875 6.203125 41.984375 11.859375 \nQ 46.1875 17.53125 46.1875 27.296875 \nQ 46.1875 37.015625 41.984375 42.703125 \nQ 37.796875 48.390625 30.609375 48.390625 \nz\nM 30.609375 56 \nQ 42.328125 56 49.015625 48.375 \nQ 55.71875 40.765625 55.71875 27.296875 \nQ 55.71875 13.875 49.015625 6.21875 \nQ 42.328125 -1.421875 30.609375 -1.421875 \nQ 18.84375 -1.421875 12.171875 6.21875 \nQ 5.515625 13.875 5.515625 27.296875 \nQ 5.515625 40.765625 12.171875 48.375 \nQ 18.84375 56 30.609375 56 \nz\n\" id=\"DejaVuSans-111\"/>\n      <path d=\"M 54.890625 33.015625 \nL 54.890625 0 \nL 45.90625 0 \nL 45.90625 32.71875 \nQ 45.90625 40.484375 42.875 44.328125 \nQ 39.84375 48.1875 33.796875 48.1875 \nQ 26.515625 48.1875 22.3125 43.546875 \nQ 18.109375 38.921875 18.109375 30.90625 \nL 18.109375 0 \nL 9.078125 0 \nL 9.078125 54.6875 \nL 18.109375 54.6875 \nL 18.109375 46.1875 \nQ 21.34375 51.125 25.703125 53.5625 \nQ 30.078125 56 35.796875 56 \nQ 45.21875 56 50.046875 50.171875 \nQ 54.890625 44.34375 54.890625 33.015625 \nz\n\" id=\"DejaVuSans-110\"/>\n      <path d=\"M 56.203125 29.59375 \nL 56.203125 25.203125 \nL 14.890625 25.203125 \nQ 15.484375 15.921875 20.484375 11.0625 \nQ 25.484375 6.203125 34.421875 6.203125 \nQ 39.59375 6.203125 44.453125 7.46875 \nQ 49.3125 8.734375 54.109375 11.28125 \nL 54.109375 2.78125 \nQ 49.265625 0.734375 44.1875 -0.34375 \nQ 39.109375 -1.421875 33.890625 -1.421875 \nQ 20.796875 -1.421875 13.15625 6.1875 \nQ 5.515625 13.8125 5.515625 26.8125 \nQ 5.515625 40.234375 12.765625 48.109375 \nQ 20.015625 56 32.328125 56 \nQ 43.359375 56 49.78125 48.890625 \nQ 56.203125 41.796875 56.203125 29.59375 \nz\nM 47.21875 32.234375 \nQ 47.125 39.59375 43.09375 43.984375 \nQ 39.0625 48.390625 32.421875 48.390625 \nQ 24.90625 48.390625 20.390625 44.140625 \nQ 15.875 39.890625 15.1875 32.171875 \nz\nM 38.53125 79.984375 \nL 48.25 79.984375 \nL 32.34375 61.625 \nL 24.859375 61.625 \nz\n\" id=\"DejaVuSans-233\"/>\n      <path d=\"M 18.3125 70.21875 \nL 18.3125 54.6875 \nL 36.8125 54.6875 \nL 36.8125 47.703125 \nL 18.3125 47.703125 \nL 18.3125 18.015625 \nQ 18.3125 11.328125 20.140625 9.421875 \nQ 21.96875 7.515625 27.59375 7.515625 \nL 36.8125 7.515625 \nL 36.8125 0 \nL 27.59375 0 \nQ 17.1875 0 13.234375 3.875 \nQ 9.28125 7.765625 9.28125 18.015625 \nL 9.28125 47.703125 \nL 2.6875 47.703125 \nL 2.6875 54.6875 \nL 9.28125 54.6875 \nL 9.28125 70.21875 \nz\n\" id=\"DejaVuSans-116\"/>\n     </defs>\n     <g transform=\"translate(149.196875 268.034687)scale(0.1 -0.1)\">\n      <use xlink:href=\"#DejaVuSans-84\"/>\n      <use x=\"60.833984\" xlink:href=\"#DejaVuSans-97\"/>\n      <use x=\"122.113281\" xlink:href=\"#DejaVuSans-105\"/>\n      <use x=\"149.896484\" xlink:href=\"#DejaVuSans-108\"/>\n      <use x=\"177.679688\" xlink:href=\"#DejaVuSans-108\"/>\n      <use x=\"205.462891\" xlink:href=\"#DejaVuSans-101\"/>\n      <use x=\"266.986328\" xlink:href=\"#DejaVuSans-32\"/>\n      <use x=\"298.773438\" xlink:href=\"#DejaVuSans-100\"/>\n      <use x=\"362.25\" xlink:href=\"#DejaVuSans-101\"/>\n      <use x=\"423.773438\" xlink:href=\"#DejaVuSans-115\"/>\n      <use x=\"475.873047\" xlink:href=\"#DejaVuSans-32\"/>\n      <use x=\"507.660156\" xlink:href=\"#DejaVuSans-100\"/>\n      <use x=\"571.136719\" xlink:href=\"#DejaVuSans-111\"/>\n      <use x=\"632.318359\" xlink:href=\"#DejaVuSans-110\"/>\n      <use x=\"695.697266\" xlink:href=\"#DejaVuSans-110\"/>\n      <use x=\"759.076172\" xlink:href=\"#DejaVuSans-233\"/>\n      <use x=\"820.599609\" xlink:href=\"#DejaVuSans-101\"/>\n      <use x=\"882.123047\" xlink:href=\"#DejaVuSans-115\"/>\n      <use x=\"934.222656\" xlink:href=\"#DejaVuSans-32\"/>\n      <use x=\"966.009766\" xlink:href=\"#DejaVuSans-100\"/>\n      <use x=\"1029.486328\" xlink:href=\"#DejaVuSans-101\"/>\n      <use x=\"1091.009766\" xlink:href=\"#DejaVuSans-32\"/>\n      <use x=\"1122.796875\" xlink:href=\"#DejaVuSans-116\"/>\n      <use x=\"1162.005859\" xlink:href=\"#DejaVuSans-101\"/>\n      <use x=\"1223.529297\" xlink:href=\"#DejaVuSans-115\"/>\n      <use x=\"1275.628906\" xlink:href=\"#DejaVuSans-116\"/>\n      <use x=\"1314.837891\" xlink:href=\"#DejaVuSans-115\"/>\n     </g>\n    </g>\n   </g>\n   <g id=\"matplotlib.axis_2\">\n    <g id=\"ytick_1\">\n     <g id=\"line2d_10\">\n      <defs>\n       <path d=\"M 0 0 \nL -3.5 0 \n\" id=\"m751e46526c\" style=\"stroke:#000000;stroke-width:0.8;\"/>\n      </defs>\n      <g>\n       <use style=\"stroke:#000000;stroke-width:0.8;\" x=\"50.14375\" xlink:href=\"#m751e46526c\" y=\"229.874489\"/>\n      </g>\n     </g>\n     <g id=\"text_11\">\n      <!-- 0.45 -->\n      <defs>\n       <path d=\"M 10.6875 12.40625 \nL 21 12.40625 \nL 21 0 \nL 10.6875 0 \nz\n\" id=\"DejaVuSans-46\"/>\n      </defs>\n      <g transform=\"translate(20.878125 233.673707)scale(0.1 -0.1)\">\n       <use xlink:href=\"#DejaVuSans-48\"/>\n       <use x=\"63.623047\" xlink:href=\"#DejaVuSans-46\"/>\n       <use x=\"95.410156\" xlink:href=\"#DejaVuSans-52\"/>\n       <use x=\"159.033203\" xlink:href=\"#DejaVuSans-53\"/>\n      </g>\n     </g>\n    </g>\n    <g id=\"ytick_2\">\n     <g id=\"line2d_11\">\n      <g>\n       <use style=\"stroke:#000000;stroke-width:0.8;\" x=\"50.14375\" xlink:href=\"#m751e46526c\" y=\"201.635528\"/>\n      </g>\n     </g>\n     <g id=\"text_12\">\n      <!-- 0.50 -->\n      <g transform=\"translate(20.878125 205.434746)scale(0.1 -0.1)\">\n       <use xlink:href=\"#DejaVuSans-48\"/>\n       <use x=\"63.623047\" xlink:href=\"#DejaVuSans-46\"/>\n       <use x=\"95.410156\" xlink:href=\"#DejaVuSans-53\"/>\n       <use x=\"159.033203\" xlink:href=\"#DejaVuSans-48\"/>\n      </g>\n     </g>\n    </g>\n    <g id=\"ytick_3\">\n     <g id=\"line2d_12\">\n      <g>\n       <use style=\"stroke:#000000;stroke-width:0.8;\" x=\"50.14375\" xlink:href=\"#m751e46526c\" y=\"173.396567\"/>\n      </g>\n     </g>\n     <g id=\"text_13\">\n      <!-- 0.55 -->\n      <g transform=\"translate(20.878125 177.195785)scale(0.1 -0.1)\">\n       <use xlink:href=\"#DejaVuSans-48\"/>\n       <use x=\"63.623047\" xlink:href=\"#DejaVuSans-46\"/>\n       <use x=\"95.410156\" xlink:href=\"#DejaVuSans-53\"/>\n       <use x=\"159.033203\" xlink:href=\"#DejaVuSans-53\"/>\n      </g>\n     </g>\n    </g>\n    <g id=\"ytick_4\">\n     <g id=\"line2d_13\">\n      <g>\n       <use style=\"stroke:#000000;stroke-width:0.8;\" x=\"50.14375\" xlink:href=\"#m751e46526c\" y=\"145.157606\"/>\n      </g>\n     </g>\n     <g id=\"text_14\">\n      <!-- 0.60 -->\n      <g transform=\"translate(20.878125 148.956824)scale(0.1 -0.1)\">\n       <use xlink:href=\"#DejaVuSans-48\"/>\n       <use x=\"63.623047\" xlink:href=\"#DejaVuSans-46\"/>\n       <use x=\"95.410156\" xlink:href=\"#DejaVuSans-54\"/>\n       <use x=\"159.033203\" xlink:href=\"#DejaVuSans-48\"/>\n      </g>\n     </g>\n    </g>\n    <g id=\"ytick_5\">\n     <g id=\"line2d_14\">\n      <g>\n       <use style=\"stroke:#000000;stroke-width:0.8;\" x=\"50.14375\" xlink:href=\"#m751e46526c\" y=\"116.918644\"/>\n      </g>\n     </g>\n     <g id=\"text_15\">\n      <!-- 0.65 -->\n      <g transform=\"translate(20.878125 120.717863)scale(0.1 -0.1)\">\n       <use xlink:href=\"#DejaVuSans-48\"/>\n       <use x=\"63.623047\" xlink:href=\"#DejaVuSans-46\"/>\n       <use x=\"95.410156\" xlink:href=\"#DejaVuSans-54\"/>\n       <use x=\"159.033203\" xlink:href=\"#DejaVuSans-53\"/>\n      </g>\n     </g>\n    </g>\n    <g id=\"ytick_6\">\n     <g id=\"line2d_15\">\n      <g>\n       <use style=\"stroke:#000000;stroke-width:0.8;\" x=\"50.14375\" xlink:href=\"#m751e46526c\" y=\"88.679683\"/>\n      </g>\n     </g>\n     <g id=\"text_16\">\n      <!-- 0.70 -->\n      <g transform=\"translate(20.878125 92.478902)scale(0.1 -0.1)\">\n       <use xlink:href=\"#DejaVuSans-48\"/>\n       <use x=\"63.623047\" xlink:href=\"#DejaVuSans-46\"/>\n       <use x=\"95.410156\" xlink:href=\"#DejaVuSans-55\"/>\n       <use x=\"159.033203\" xlink:href=\"#DejaVuSans-48\"/>\n      </g>\n     </g>\n    </g>\n    <g id=\"ytick_7\">\n     <g id=\"line2d_16\">\n      <g>\n       <use style=\"stroke:#000000;stroke-width:0.8;\" x=\"50.14375\" xlink:href=\"#m751e46526c\" y=\"60.440722\"/>\n      </g>\n     </g>\n     <g id=\"text_17\">\n      <!-- 0.75 -->\n      <g transform=\"translate(20.878125 64.239941)scale(0.1 -0.1)\">\n       <use xlink:href=\"#DejaVuSans-48\"/>\n       <use x=\"63.623047\" xlink:href=\"#DejaVuSans-46\"/>\n       <use x=\"95.410156\" xlink:href=\"#DejaVuSans-55\"/>\n       <use x=\"159.033203\" xlink:href=\"#DejaVuSans-53\"/>\n      </g>\n     </g>\n    </g>\n    <g id=\"ytick_8\">\n     <g id=\"line2d_17\">\n      <g>\n       <use style=\"stroke:#000000;stroke-width:0.8;\" x=\"50.14375\" xlink:href=\"#m751e46526c\" y=\"32.201761\"/>\n      </g>\n     </g>\n     <g id=\"text_18\">\n      <!-- 0.80 -->\n      <g transform=\"translate(20.878125 36.00098)scale(0.1 -0.1)\">\n       <use xlink:href=\"#DejaVuSans-48\"/>\n       <use x=\"63.623047\" xlink:href=\"#DejaVuSans-46\"/>\n       <use x=\"95.410156\" xlink:href=\"#DejaVuSans-56\"/>\n       <use x=\"159.033203\" xlink:href=\"#DejaVuSans-48\"/>\n      </g>\n     </g>\n    </g>\n    <g id=\"text_19\">\n     <!-- Taux de reconnaissance ou score -->\n     <defs>\n      <path d=\"M 8.5 21.578125 \nL 8.5 54.6875 \nL 17.484375 54.6875 \nL 17.484375 21.921875 \nQ 17.484375 14.15625 20.5 10.265625 \nQ 23.53125 6.390625 29.59375 6.390625 \nQ 36.859375 6.390625 41.078125 11.03125 \nQ 45.3125 15.671875 45.3125 23.6875 \nL 45.3125 54.6875 \nL 54.296875 54.6875 \nL 54.296875 0 \nL 45.3125 0 \nL 45.3125 8.40625 \nQ 42.046875 3.421875 37.71875 1 \nQ 33.40625 -1.421875 27.6875 -1.421875 \nQ 18.265625 -1.421875 13.375 4.4375 \nQ 8.5 10.296875 8.5 21.578125 \nz\nM 31.109375 56 \nz\n\" id=\"DejaVuSans-117\"/>\n      <path d=\"M 54.890625 54.6875 \nL 35.109375 28.078125 \nL 55.90625 0 \nL 45.3125 0 \nL 29.390625 21.484375 \nL 13.484375 0 \nL 2.875 0 \nL 24.125 28.609375 \nL 4.6875 54.6875 \nL 15.28125 54.6875 \nL 29.78125 35.203125 \nL 44.28125 54.6875 \nz\n\" id=\"DejaVuSans-120\"/>\n      <path d=\"M 41.109375 46.296875 \nQ 39.59375 47.171875 37.8125 47.578125 \nQ 36.03125 48 33.890625 48 \nQ 26.265625 48 22.1875 43.046875 \nQ 18.109375 38.09375 18.109375 28.8125 \nL 18.109375 0 \nL 9.078125 0 \nL 9.078125 54.6875 \nL 18.109375 54.6875 \nL 18.109375 46.1875 \nQ 20.953125 51.171875 25.484375 53.578125 \nQ 30.03125 56 36.53125 56 \nQ 37.453125 56 38.578125 55.875 \nQ 39.703125 55.765625 41.0625 55.515625 \nz\n\" id=\"DejaVuSans-114\"/>\n      <path d=\"M 48.78125 52.59375 \nL 48.78125 44.1875 \nQ 44.96875 46.296875 41.140625 47.34375 \nQ 37.3125 48.390625 33.40625 48.390625 \nQ 24.65625 48.390625 19.8125 42.84375 \nQ 14.984375 37.3125 14.984375 27.296875 \nQ 14.984375 17.28125 19.8125 11.734375 \nQ 24.65625 6.203125 33.40625 6.203125 \nQ 37.3125 6.203125 41.140625 7.25 \nQ 44.96875 8.296875 48.78125 10.40625 \nL 48.78125 2.09375 \nQ 45.015625 0.34375 40.984375 -0.53125 \nQ 36.96875 -1.421875 32.421875 -1.421875 \nQ 20.0625 -1.421875 12.78125 6.34375 \nQ 5.515625 14.109375 5.515625 27.296875 \nQ 5.515625 40.671875 12.859375 48.328125 \nQ 20.21875 56 33.015625 56 \nQ 37.15625 56 41.109375 55.140625 \nQ 45.0625 54.296875 48.78125 52.59375 \nz\n\" id=\"DejaVuSans-99\"/>\n     </defs>\n     <g transform=\"translate(14.798438 214.648281)rotate(-90)scale(0.1 -0.1)\">\n      <use xlink:href=\"#DejaVuSans-84\"/>\n      <use x=\"60.833984\" xlink:href=\"#DejaVuSans-97\"/>\n      <use x=\"122.113281\" xlink:href=\"#DejaVuSans-117\"/>\n      <use x=\"185.492188\" xlink:href=\"#DejaVuSans-120\"/>\n      <use x=\"244.671875\" xlink:href=\"#DejaVuSans-32\"/>\n      <use x=\"276.458984\" xlink:href=\"#DejaVuSans-100\"/>\n      <use x=\"339.935547\" xlink:href=\"#DejaVuSans-101\"/>\n      <use x=\"401.458984\" xlink:href=\"#DejaVuSans-32\"/>\n      <use x=\"433.246094\" xlink:href=\"#DejaVuSans-114\"/>\n      <use x=\"474.328125\" xlink:href=\"#DejaVuSans-101\"/>\n      <use x=\"535.851562\" xlink:href=\"#DejaVuSans-99\"/>\n      <use x=\"590.832031\" xlink:href=\"#DejaVuSans-111\"/>\n      <use x=\"652.013672\" xlink:href=\"#DejaVuSans-110\"/>\n      <use x=\"715.392578\" xlink:href=\"#DejaVuSans-110\"/>\n      <use x=\"778.771484\" xlink:href=\"#DejaVuSans-97\"/>\n      <use x=\"840.050781\" xlink:href=\"#DejaVuSans-105\"/>\n      <use x=\"867.833984\" xlink:href=\"#DejaVuSans-115\"/>\n      <use x=\"919.933594\" xlink:href=\"#DejaVuSans-115\"/>\n      <use x=\"972.033203\" xlink:href=\"#DejaVuSans-97\"/>\n      <use x=\"1033.3125\" xlink:href=\"#DejaVuSans-110\"/>\n      <use x=\"1096.691406\" xlink:href=\"#DejaVuSans-99\"/>\n      <use x=\"1151.671875\" xlink:href=\"#DejaVuSans-101\"/>\n      <use x=\"1213.195312\" xlink:href=\"#DejaVuSans-32\"/>\n      <use x=\"1244.982422\" xlink:href=\"#DejaVuSans-111\"/>\n      <use x=\"1306.164062\" xlink:href=\"#DejaVuSans-117\"/>\n      <use x=\"1369.542969\" xlink:href=\"#DejaVuSans-32\"/>\n      <use x=\"1401.330078\" xlink:href=\"#DejaVuSans-115\"/>\n      <use x=\"1453.429688\" xlink:href=\"#DejaVuSans-99\"/>\n      <use x=\"1508.410156\" xlink:href=\"#DejaVuSans-111\"/>\n      <use x=\"1569.591797\" xlink:href=\"#DejaVuSans-114\"/>\n      <use x=\"1610.673828\" xlink:href=\"#DejaVuSans-101\"/>\n     </g>\n    </g>\n   </g>\n   <g id=\"line2d_18\">\n    <path clip-path=\"url(#pca16f6ff82)\" d=\"M 65.361932 145.157606 \nL 103.407386 229.874489 \nL 141.452841 214.186177 \nL 179.498295 187.516047 \nL 217.54375 209.165917 \nL 255.589205 189.084878 \nL 293.634659 217.772077 \nL 331.680114 213.401761 \nL 369.725568 212.094402 \n\" style=\"fill:none;stroke:#1f77b4;stroke-linecap:square;stroke-width:1.5;\"/>\n   </g>\n   <g id=\"line2d_19\">\n    <path clip-path=\"url(#pca16f6ff82)\" d=\"M 65.361932 32.201761 \nL 103.407386 154.570593 \nL 141.452841 82.404359 \nL 179.498295 107.505657 \nL 217.54375 77.384099 \nL 255.589205 85.542021 \nL 293.634659 72.543134 \nL 331.680114 81.619943 \nL 369.725568 136.790506 \n\" style=\"fill:none;stroke:#ff7f0e;stroke-linecap:square;stroke-width:1.5;\"/>\n   </g>\n   <g id=\"line2d_20\">\n    <path clip-path=\"url(#pca16f6ff82)\" d=\"M 65.361932 88.679683 \nL 103.407386 126.331631 \nL 141.452841 76.129034 \nL 179.498295 112.212151 \nL 217.54375 115.036047 \nL 255.589205 94.955008 \nL 293.634659 88.679683 \nL 331.680114 81.619943 \nL 369.725568 117.964532 \n\" style=\"fill:none;stroke:#2ca02c;stroke-linecap:square;stroke-width:1.5;\"/>\n   </g>\n   <g id=\"patch_3\">\n    <path d=\"M 50.14375 239.758125 \nL 50.14375 22.318125 \n\" style=\"fill:none;stroke:#000000;stroke-linecap:square;stroke-linejoin:miter;stroke-width:0.8;\"/>\n   </g>\n   <g id=\"patch_4\">\n    <path d=\"M 384.94375 239.758125 \nL 384.94375 22.318125 \n\" style=\"fill:none;stroke:#000000;stroke-linecap:square;stroke-linejoin:miter;stroke-width:0.8;\"/>\n   </g>\n   <g id=\"patch_5\">\n    <path d=\"M 50.14375 239.758125 \nL 384.94375 239.758125 \n\" style=\"fill:none;stroke:#000000;stroke-linecap:square;stroke-linejoin:miter;stroke-width:0.8;\"/>\n   </g>\n   <g id=\"patch_6\">\n    <path d=\"M 50.14375 22.318125 \nL 384.94375 22.318125 \n\" style=\"fill:none;stroke:#000000;stroke-linecap:square;stroke-linejoin:miter;stroke-width:0.8;\"/>\n   </g>\n   <g id=\"text_20\">\n    <!-- Influence de la taille des données de test -->\n    <defs>\n     <path d=\"M 9.8125 72.90625 \nL 19.671875 72.90625 \nL 19.671875 0 \nL 9.8125 0 \nz\n\" id=\"DejaVuSans-73\"/>\n     <path d=\"M 37.109375 75.984375 \nL 37.109375 68.5 \nL 28.515625 68.5 \nQ 23.6875 68.5 21.796875 66.546875 \nQ 19.921875 64.59375 19.921875 59.515625 \nL 19.921875 54.6875 \nL 34.71875 54.6875 \nL 34.71875 47.703125 \nL 19.921875 47.703125 \nL 19.921875 0 \nL 10.890625 0 \nL 10.890625 47.703125 \nL 2.296875 47.703125 \nL 2.296875 54.6875 \nL 10.890625 54.6875 \nL 10.890625 58.5 \nQ 10.890625 67.625 15.140625 71.796875 \nQ 19.390625 75.984375 28.609375 75.984375 \nz\n\" id=\"DejaVuSans-102\"/>\n    </defs>\n    <g transform=\"translate(93.745938 16.318125)scale(0.12 -0.12)\">\n     <use xlink:href=\"#DejaVuSans-73\"/>\n     <use x=\"29.492188\" xlink:href=\"#DejaVuSans-110\"/>\n     <use x=\"92.871094\" xlink:href=\"#DejaVuSans-102\"/>\n     <use x=\"128.076172\" xlink:href=\"#DejaVuSans-108\"/>\n     <use x=\"155.859375\" xlink:href=\"#DejaVuSans-117\"/>\n     <use x=\"219.238281\" xlink:href=\"#DejaVuSans-101\"/>\n     <use x=\"280.761719\" xlink:href=\"#DejaVuSans-110\"/>\n     <use x=\"344.140625\" xlink:href=\"#DejaVuSans-99\"/>\n     <use x=\"399.121094\" xlink:href=\"#DejaVuSans-101\"/>\n     <use x=\"460.644531\" xlink:href=\"#DejaVuSans-32\"/>\n     <use x=\"492.431641\" xlink:href=\"#DejaVuSans-100\"/>\n     <use x=\"555.908203\" xlink:href=\"#DejaVuSans-101\"/>\n     <use x=\"617.431641\" xlink:href=\"#DejaVuSans-32\"/>\n     <use x=\"649.21875\" xlink:href=\"#DejaVuSans-108\"/>\n     <use x=\"677.001953\" xlink:href=\"#DejaVuSans-97\"/>\n     <use x=\"738.28125\" xlink:href=\"#DejaVuSans-32\"/>\n     <use x=\"770.068359\" xlink:href=\"#DejaVuSans-116\"/>\n     <use x=\"809.277344\" xlink:href=\"#DejaVuSans-97\"/>\n     <use x=\"870.556641\" xlink:href=\"#DejaVuSans-105\"/>\n     <use x=\"898.339844\" xlink:href=\"#DejaVuSans-108\"/>\n     <use x=\"926.123047\" xlink:href=\"#DejaVuSans-108\"/>\n     <use x=\"953.90625\" xlink:href=\"#DejaVuSans-101\"/>\n     <use x=\"1015.429688\" xlink:href=\"#DejaVuSans-32\"/>\n     <use x=\"1047.216797\" xlink:href=\"#DejaVuSans-100\"/>\n     <use x=\"1110.693359\" xlink:href=\"#DejaVuSans-101\"/>\n     <use x=\"1172.216797\" xlink:href=\"#DejaVuSans-115\"/>\n     <use x=\"1224.316406\" xlink:href=\"#DejaVuSans-32\"/>\n     <use x=\"1256.103516\" xlink:href=\"#DejaVuSans-100\"/>\n     <use x=\"1319.580078\" xlink:href=\"#DejaVuSans-111\"/>\n     <use x=\"1380.761719\" xlink:href=\"#DejaVuSans-110\"/>\n     <use x=\"1444.140625\" xlink:href=\"#DejaVuSans-110\"/>\n     <use x=\"1507.519531\" xlink:href=\"#DejaVuSans-233\"/>\n     <use x=\"1569.042969\" xlink:href=\"#DejaVuSans-101\"/>\n     <use x=\"1630.566406\" xlink:href=\"#DejaVuSans-115\"/>\n     <use x=\"1682.666016\" xlink:href=\"#DejaVuSans-32\"/>\n     <use x=\"1714.453125\" xlink:href=\"#DejaVuSans-100\"/>\n     <use x=\"1777.929688\" xlink:href=\"#DejaVuSans-101\"/>\n     <use x=\"1839.453125\" xlink:href=\"#DejaVuSans-32\"/>\n     <use x=\"1871.240234\" xlink:href=\"#DejaVuSans-116\"/>\n     <use x=\"1910.449219\" xlink:href=\"#DejaVuSans-101\"/>\n     <use x=\"1971.972656\" xlink:href=\"#DejaVuSans-115\"/>\n     <use x=\"2024.072266\" xlink:href=\"#DejaVuSans-116\"/>\n    </g>\n   </g>\n   <g id=\"legend_1\">\n    <g id=\"patch_7\">\n     <path d=\"M 324.423438 74.3525 \nL 377.94375 74.3525 \nQ 379.94375 74.3525 379.94375 72.3525 \nL 379.94375 29.318125 \nQ 379.94375 27.318125 377.94375 27.318125 \nL 324.423438 27.318125 \nQ 322.423438 27.318125 322.423438 29.318125 \nL 322.423438 72.3525 \nQ 322.423438 74.3525 324.423438 74.3525 \nz\n\" style=\"fill:#ffffff;opacity:0.8;stroke:#cccccc;stroke-linejoin:miter;\"/>\n    </g>\n    <g id=\"line2d_21\">\n     <path d=\"M 326.423438 35.416562 \nL 346.423438 35.416562 \n\" style=\"fill:none;stroke:#1f77b4;stroke-linecap:square;stroke-width:1.5;\"/>\n    </g>\n    <g id=\"line2d_22\"/>\n    <g id=\"text_21\">\n     <!-- KNN -->\n     <defs>\n      <path d=\"M 9.8125 72.90625 \nL 19.671875 72.90625 \nL 19.671875 42.09375 \nL 52.390625 72.90625 \nL 65.09375 72.90625 \nL 28.90625 38.921875 \nL 67.671875 0 \nL 54.6875 0 \nL 19.671875 35.109375 \nL 19.671875 0 \nL 9.8125 0 \nz\n\" id=\"DejaVuSans-75\"/>\n      <path d=\"M 9.8125 72.90625 \nL 23.09375 72.90625 \nL 55.421875 11.921875 \nL 55.421875 72.90625 \nL 64.984375 72.90625 \nL 64.984375 0 \nL 51.703125 0 \nL 19.390625 60.984375 \nL 19.390625 0 \nL 9.8125 0 \nz\n\" id=\"DejaVuSans-78\"/>\n     </defs>\n     <g transform=\"translate(354.423438 38.916562)scale(0.1 -0.1)\">\n      <use xlink:href=\"#DejaVuSans-75\"/>\n      <use x=\"65.576172\" xlink:href=\"#DejaVuSans-78\"/>\n      <use x=\"140.380859\" xlink:href=\"#DejaVuSans-78\"/>\n     </g>\n    </g>\n    <g id=\"line2d_23\">\n     <path d=\"M 326.423438 50.094687 \nL 346.423438 50.094687 \n\" style=\"fill:none;stroke:#ff7f0e;stroke-linecap:square;stroke-width:1.5;\"/>\n    </g>\n    <g id=\"line2d_24\"/>\n    <g id=\"text_22\">\n     <!-- RFC -->\n     <defs>\n      <path d=\"M 44.390625 34.1875 \nQ 47.5625 33.109375 50.5625 29.59375 \nQ 53.5625 26.078125 56.59375 19.921875 \nL 66.609375 0 \nL 56 0 \nL 46.6875 18.703125 \nQ 43.0625 26.03125 39.671875 28.421875 \nQ 36.28125 30.8125 30.421875 30.8125 \nL 19.671875 30.8125 \nL 19.671875 0 \nL 9.8125 0 \nL 9.8125 72.90625 \nL 32.078125 72.90625 \nQ 44.578125 72.90625 50.734375 67.671875 \nQ 56.890625 62.453125 56.890625 51.90625 \nQ 56.890625 45.015625 53.6875 40.46875 \nQ 50.484375 35.9375 44.390625 34.1875 \nz\nM 19.671875 64.796875 \nL 19.671875 38.921875 \nL 32.078125 38.921875 \nQ 39.203125 38.921875 42.84375 42.21875 \nQ 46.484375 45.515625 46.484375 51.90625 \nQ 46.484375 58.296875 42.84375 61.546875 \nQ 39.203125 64.796875 32.078125 64.796875 \nz\n\" id=\"DejaVuSans-82\"/>\n      <path d=\"M 9.8125 72.90625 \nL 51.703125 72.90625 \nL 51.703125 64.59375 \nL 19.671875 64.59375 \nL 19.671875 43.109375 \nL 48.578125 43.109375 \nL 48.578125 34.8125 \nL 19.671875 34.8125 \nL 19.671875 0 \nL 9.8125 0 \nz\n\" id=\"DejaVuSans-70\"/>\n      <path d=\"M 64.40625 67.28125 \nL 64.40625 56.890625 \nQ 59.421875 61.53125 53.78125 63.8125 \nQ 48.140625 66.109375 41.796875 66.109375 \nQ 29.296875 66.109375 22.65625 58.46875 \nQ 16.015625 50.828125 16.015625 36.375 \nQ 16.015625 21.96875 22.65625 14.328125 \nQ 29.296875 6.6875 41.796875 6.6875 \nQ 48.140625 6.6875 53.78125 8.984375 \nQ 59.421875 11.28125 64.40625 15.921875 \nL 64.40625 5.609375 \nQ 59.234375 2.09375 53.4375 0.328125 \nQ 47.65625 -1.421875 41.21875 -1.421875 \nQ 24.65625 -1.421875 15.125 8.703125 \nQ 5.609375 18.84375 5.609375 36.375 \nQ 5.609375 53.953125 15.125 64.078125 \nQ 24.65625 74.21875 41.21875 74.21875 \nQ 47.75 74.21875 53.53125 72.484375 \nQ 59.328125 70.75 64.40625 67.28125 \nz\n\" id=\"DejaVuSans-67\"/>\n     </defs>\n     <g transform=\"translate(354.423438 53.594687)scale(0.1 -0.1)\">\n      <use xlink:href=\"#DejaVuSans-82\"/>\n      <use x=\"69.482422\" xlink:href=\"#DejaVuSans-70\"/>\n      <use x=\"127.001953\" xlink:href=\"#DejaVuSans-67\"/>\n     </g>\n    </g>\n    <g id=\"line2d_25\">\n     <path d=\"M 326.423438 64.772812 \nL 346.423438 64.772812 \n\" style=\"fill:none;stroke:#2ca02c;stroke-linecap:square;stroke-width:1.5;\"/>\n    </g>\n    <g id=\"line2d_26\"/>\n    <g id=\"text_23\">\n     <!-- NN -->\n     <g transform=\"translate(354.423438 68.272812)scale(0.1 -0.1)\">\n      <use xlink:href=\"#DejaVuSans-78\"/>\n      <use x=\"74.804688\" xlink:href=\"#DejaVuSans-78\"/>\n     </g>\n    </g>\n   </g>\n  </g>\n </g>\n <defs>\n  <clipPath id=\"pca16f6ff82\">\n   <rect height=\"217.44\" width=\"334.8\" x=\"50.14375\" y=\"22.318125\"/>\n  </clipPath>\n </defs>\n</svg>\n",
            "image/png": "[encoded data removed]"
          },
          "metadata": {
            "needs_background": "light"
          }
        }
      ]
    },
    {
      "cell_type": "markdown",
      "metadata": {
        "id": "njrNsyckWpco"
      },
      "source": [
        "#### **3.2 Variation de la taille des données d'entrainement"
      ]
    },
    {
      "cell_type": "code",
      "metadata": {
        "id": "LATc2zRhWpcp",
        "colab": {
          "base_uri": "https://localhost:8080/",
          "height": 296
        },
        "outputId": "1e38df89-cd92-49fd-e6dd-33318f6840be"
      },
      "source": [
        "tauxApp = {\"KNN\":{}, \"RFC\":{}, \"NN\":{}}\n",
        "\n",
        "for i in range(9):\n",
        "    [DataApp, DataTest, Label_App, Label_Test] = generer(TAILLE_APP = 10 + 10*i)\n",
        "    tauxApp[\"KNN\"][str(10 + 10*i)] = prediction_KNN()\n",
        "    tauxApp[\"RFC\"][str(10 + 10*i)] = prediction_RFC()\n",
        "    tauxApp[\"NN\"][str(10 + 10*i)] = prediction_NN()\n",
        "\n",
        "listOrdKNN = sorted(tauxApp[\"KNN\"].items())\n",
        "listOrdRFC = sorted(tauxApp[\"RFC\"].items())\n",
        "listOrdNN = sorted(tauxApp[\"NN\"].items())\n",
        "xKNN, yKNN = zip(*listOrdKNN)\n",
        "xRFC, yRFC = zip(*listOrdRFC)\n",
        "xNN, yNN = zip(*listOrdNN)\n",
        "\n",
        "plt.plot(xKNN, yKNN, label=\"KNN\")\n",
        "plt.plot(xRFC, yRFC, label=\"RFC\")\n",
        "plt.plot(xNN, yNN, label=\"NN\")\n",
        "\n",
        "plt.title(\"Influence de la taille des données d'apprentissage\")\n",
        "plt.xlabel(\"Taille des données d'apprentissage\")\n",
        "plt.ylabel(\"Taux de reconnaissance ou score\")\n",
        "plt.legend()\n",
        "plt.show()"
      ],
      "execution_count": null,
      "outputs": [
        {
          "output_type": "display_data",
          "data": {
            "image/png": "[encoded data removed]",
            "text/plain": [
              "<Figure size 432x288 with 1 Axes>"
            ]
          },
          "metadata": {
            "tags": [],
            "needs_background": "light"
          }
        }
      ]
    },
    {
      "cell_type": "markdown",
      "metadata": {
        "id": "q-BCwz0BWpcq"
      },
      "source": [
        "#### **3.3 Variation de la taille des segments**"
      ]
    },
    {
      "cell_type": "code",
      "metadata": {
        "id": "keqQ3SShWpcq",
        "colab": {
          "base_uri": "https://localhost:8080/",
          "height": 296
        },
        "outputId": "ae3ef515-70df-448e-bb8c-b273c1d71e40"
      },
      "source": [
        "tauxSeg = {\"KNN\":{}, \"RFC\":{}, \"NN\":{}}\n",
        "\n",
        "for i in range(9):\n",
        "    [DataApp, DataTest, Label_App, Label_Test] = generer(SEGMENT_TIME_SIZE = 10 + 10*i)\n",
        "    tauxSeg[\"KNN\"][str(10 + 10*i)] = prediction_KNN()\n",
        "    tauxSeg[\"RFC\"][str(10 + 10*i)] = prediction_RFC()\n",
        "    tauxSeg[\"NN\"][str(10 + 10*i)] = prediction_NN()\n",
        "\n",
        "listOrdKNN = sorted(tauxSeg[\"KNN\"].items())\n",
        "listOrdRFC = sorted(tauxSeg[\"RFC\"].items())\n",
        "listOrdNN = sorted(tauxSeg[\"NN\"].items())\n",
        "x_KNN, y_KNN = zip(*listOrdKNN)\n",
        "x_RFC, y_RFC = zip(*listOrdRFC)\n",
        "x_NN, y_NN = zip(*listOrdNN)\n",
        "\n",
        "plt.plot(x_KNN, y_KNN, label=\"KNN\")\n",
        "plt.plot(x_RFC, y_RFC, label=\"RFC\")\n",
        "plt.plot(x_NN, y_NN, label=\"NN\")\n",
        "\n",
        "plt.title(\"Influence de la taille du segment\")\n",
        "plt.xlabel(\"Taille du segment de donnée par individu\")\n",
        "plt.ylabel(\"Taux de reconnaissance ou score\")\n",
        "plt.legend()\n",
        "plt.show()"
      ],
      "execution_count": null,
      "outputs": [
        {
          "output_type": "display_data",
          "data": {
            "image/png": "[encoded data removed]",
            "text/plain": [
              "<Figure size 432x288 with 1 Axes>"
            ]
          },
          "metadata": {
            "tags": [],
            "needs_background": "light"
          }
        }
      ]
    },
    {
      "cell_type": "markdown",
      "metadata": {
        "id": "G5Q-HUVOWpcq"
      },
      "source": [
        "#### **3.4 Variation simultannée des 3 variables**"
      ]
    },
    {
      "cell_type": "code",
      "metadata": {
        "id": "xMysKc-LWpcr",
        "colab": {
          "base_uri": "https://localhost:8080/"
        },
        "outputId": "83bf85a7-5d0f-4db3-cd43-96318c36123e"
      },
      "source": [
        "tauxAbs = {\"KNN\":{}, \"RFC\":{}, \"NN\":{}}\n",
        "\n",
        "\n",
        "for i in range(4):\n",
        "    SEGMENT_TIME_SIZE = 20 + 10*i\n",
        "    for j in range(4):\n",
        "        TAILLE_TEST = 10 + 10*i\n",
        "        for k in range(4):\n",
        "            TAILLE_APP = 30 + 10*i\n",
        "            [DataApp, DataTest, Label_App, Label_Test] = generer(SEGMENT_TIME_SIZE = SEGMENT_TIME_SIZE, TAILLE_TEST = TAILLE_TEST, TAILLE_APP = TAILLE_APP)\n",
        "            tauxAbs[\"KNN\"][\"Taille Segment = \" + str(20 + 10*i) + \", Taille Test = \" + str(10 + 10*j) + \", Taille Apprentissage = \" + str(30 + 10*k)] = prediction_KNN()\n",
        "            tauxAbs[\"RFC\"][\"Taille Segment = \" + str(20 + 10*i) + \", Taille Test = \" + str(10 + 10*j) + \", Taille Apprentissage = \" + str(30 + 10*k)] = prediction_RFC()\n",
        "            tauxAbs[\"NN\"][\"Taille Segment = \" + str(20 + 10*i) + \", Taille Test = \" + str(10 + 10*j) + \", Taille Apprentissage = \" + str(30 + 10*k)] = prediction_NN()\n",
        "\n",
        "print(tauxAbs[\"RFC\"])\n",
        "print(tauxAbs[\"KNN\"])\n",
        "print(tauxAbs[\"NN\"])"
      ],
      "execution_count": null,
      "outputs": [
        {
          "output_type": "stream",
          "text": [
            "/usr/local/lib/python3.6/dist-packages/sklearn/neural_network/_multilayer_perceptron.py:571: ConvergenceWarning: Stochastic Optimizer: Maximum iterations (300) reached and the optimization hasn't converged yet.\n",
            "  % self.max_iter, ConvergenceWarning)\n",
            "/usr/local/lib/python3.6/dist-packages/sklearn/neural_network/_multilayer_perceptron.py:571: ConvergenceWarning: Stochastic Optimizer: Maximum iterations (300) reached and the optimization hasn't converged yet.\n",
            "  % self.max_iter, ConvergenceWarning)\n",
            "/usr/local/lib/python3.6/dist-packages/sklearn/neural_network/_multilayer_perceptron.py:571: ConvergenceWarning: Stochastic Optimizer: Maximum iterations (300) reached and the optimization hasn't converged yet.\n",
            "  % self.max_iter, ConvergenceWarning)\n",
            "/usr/local/lib/python3.6/dist-packages/sklearn/neural_network/_multilayer_perceptron.py:571: ConvergenceWarning: Stochastic Optimizer: Maximum iterations (300) reached and the optimization hasn't converged yet.\n",
            "  % self.max_iter, ConvergenceWarning)\n",
            "/usr/local/lib/python3.6/dist-packages/sklearn/neural_network/_multilayer_perceptron.py:571: ConvergenceWarning: Stochastic Optimizer: Maximum iterations (300) reached and the optimization hasn't converged yet.\n",
            "  % self.max_iter, ConvergenceWarning)\n",
            "/usr/local/lib/python3.6/dist-packages/sklearn/neural_network/_multilayer_perceptron.py:571: ConvergenceWarning: Stochastic Optimizer: Maximum iterations (300) reached and the optimization hasn't converged yet.\n",
            "  % self.max_iter, ConvergenceWarning)\n",
            "/usr/local/lib/python3.6/dist-packages/sklearn/neural_network/_multilayer_perceptron.py:571: ConvergenceWarning: Stochastic Optimizer: Maximum iterations (300) reached and the optimization hasn't converged yet.\n",
            "  % self.max_iter, ConvergenceWarning)\n"
          ],
          "name": "stderr"
        },
        {
          "output_type": "stream",
          "text": [
            "{'Taille Segment = 20, Taille Test = 10, Taille Apprentissage = 30': 0.7333333333333333, 'Taille Segment = 20, Taille Test = 10, Taille Apprentissage = 40': 0.6666666666666666, 'Taille Segment = 20, Taille Test = 10, Taille Apprentissage = 50': 0.8666666666666667, 'Taille Segment = 20, Taille Test = 10, Taille Apprentissage = 60': 0.7, 'Taille Segment = 20, Taille Test = 20, Taille Apprentissage = 30': 0.7666666666666667, 'Taille Segment = 20, Taille Test = 20, Taille Apprentissage = 40': 0.8, 'Taille Segment = 20, Taille Test = 20, Taille Apprentissage = 50': 0.9333333333333333, 'Taille Segment = 20, Taille Test = 20, Taille Apprentissage = 60': 0.8666666666666667, 'Taille Segment = 20, Taille Test = 30, Taille Apprentissage = 30': 0.6333333333333333, 'Taille Segment = 20, Taille Test = 30, Taille Apprentissage = 40': 0.7333333333333333, 'Taille Segment = 20, Taille Test = 30, Taille Apprentissage = 50': 0.7, 'Taille Segment = 20, Taille Test = 30, Taille Apprentissage = 60': 0.6666666666666666, 'Taille Segment = 20, Taille Test = 40, Taille Apprentissage = 30': 0.6666666666666666, 'Taille Segment = 20, Taille Test = 40, Taille Apprentissage = 40': 0.6666666666666666, 'Taille Segment = 20, Taille Test = 40, Taille Apprentissage = 50': 0.7333333333333333, 'Taille Segment = 20, Taille Test = 40, Taille Apprentissage = 60': 0.7666666666666667, 'Taille Segment = 30, Taille Test = 10, Taille Apprentissage = 30': 0.8166666666666667, 'Taille Segment = 30, Taille Test = 10, Taille Apprentissage = 40': 0.7833333333333333, 'Taille Segment = 30, Taille Test = 10, Taille Apprentissage = 50': 0.75, 'Taille Segment = 30, Taille Test = 10, Taille Apprentissage = 60': 0.8666666666666667, 'Taille Segment = 30, Taille Test = 20, Taille Apprentissage = 30': 0.7833333333333333, 'Taille Segment = 30, Taille Test = 20, Taille Apprentissage = 40': 0.8833333333333333, 'Taille Segment = 30, Taille Test = 20, Taille Apprentissage = 50': 0.75, 'Taille Segment = 30, Taille Test = 20, Taille Apprentissage = 60': 0.8833333333333333, 'Taille Segment = 30, Taille Test = 30, Taille Apprentissage = 30': 0.85, 'Taille Segment = 30, Taille Test = 30, Taille Apprentissage = 40': 0.7666666666666667, 'Taille Segment = 30, Taille Test = 30, Taille Apprentissage = 50': 0.85, 'Taille Segment = 30, Taille Test = 30, Taille Apprentissage = 60': 0.8166666666666667, 'Taille Segment = 30, Taille Test = 40, Taille Apprentissage = 30': 0.9, 'Taille Segment = 30, Taille Test = 40, Taille Apprentissage = 40': 0.8, 'Taille Segment = 30, Taille Test = 40, Taille Apprentissage = 50': 0.75, 'Taille Segment = 30, Taille Test = 40, Taille Apprentissage = 60': 0.8833333333333333, 'Taille Segment = 40, Taille Test = 10, Taille Apprentissage = 30': 0.7777777777777778, 'Taille Segment = 40, Taille Test = 10, Taille Apprentissage = 40': 0.7666666666666667, 'Taille Segment = 40, Taille Test = 10, Taille Apprentissage = 50': 0.8111111111111111, 'Taille Segment = 40, Taille Test = 10, Taille Apprentissage = 60': 0.8555555555555555, 'Taille Segment = 40, Taille Test = 20, Taille Apprentissage = 30': 0.9444444444444444, 'Taille Segment = 40, Taille Test = 20, Taille Apprentissage = 40': 0.7888888888888889, 'Taille Segment = 40, Taille Test = 20, Taille Apprentissage = 50': 0.8666666666666667, 'Taille Segment = 40, Taille Test = 20, Taille Apprentissage = 60': 0.8777777777777778, 'Taille Segment = 40, Taille Test = 30, Taille Apprentissage = 30': 0.8444444444444444, 'Taille Segment = 40, Taille Test = 30, Taille Apprentissage = 40': 0.8222222222222222, 'Taille Segment = 40, Taille Test = 30, Taille Apprentissage = 50': 0.8555555555555555, 'Taille Segment = 40, Taille Test = 30, Taille Apprentissage = 60': 0.8111111111111111, 'Taille Segment = 40, Taille Test = 40, Taille Apprentissage = 30': 0.8666666666666667, 'Taille Segment = 40, Taille Test = 40, Taille Apprentissage = 40': 0.8333333333333334, 'Taille Segment = 40, Taille Test = 40, Taille Apprentissage = 50': 0.8666666666666667, 'Taille Segment = 40, Taille Test = 40, Taille Apprentissage = 60': 0.8444444444444444, 'Taille Segment = 50, Taille Test = 10, Taille Apprentissage = 30': 0.8416666666666667, 'Taille Segment = 50, Taille Test = 10, Taille Apprentissage = 40': 0.8083333333333333, 'Taille Segment = 50, Taille Test = 10, Taille Apprentissage = 50': 0.8916666666666667, 'Taille Segment = 50, Taille Test = 10, Taille Apprentissage = 60': 0.875, 'Taille Segment = 50, Taille Test = 20, Taille Apprentissage = 30': 0.9, 'Taille Segment = 50, Taille Test = 20, Taille Apprentissage = 40': 0.8583333333333333, 'Taille Segment = 50, Taille Test = 20, Taille Apprentissage = 50': 0.8583333333333333, 'Taille Segment = 50, Taille Test = 20, Taille Apprentissage = 60': 0.8666666666666667, 'Taille Segment = 50, Taille Test = 30, Taille Apprentissage = 30': 0.8583333333333333, 'Taille Segment = 50, Taille Test = 30, Taille Apprentissage = 40': 0.875, 'Taille Segment = 50, Taille Test = 30, Taille Apprentissage = 50': 0.8083333333333333, 'Taille Segment = 50, Taille Test = 30, Taille Apprentissage = 60': 0.85, 'Taille Segment = 50, Taille Test = 40, Taille Apprentissage = 30': 0.875, 'Taille Segment = 50, Taille Test = 40, Taille Apprentissage = 40': 0.9166666666666666, 'Taille Segment = 50, Taille Test = 40, Taille Apprentissage = 50': 0.9416666666666667, 'Taille Segment = 50, Taille Test = 40, Taille Apprentissage = 60': 0.85}\n",
            "{'Taille Segment = 20, Taille Test = 10, Taille Apprentissage = 30': 0.5666666666666667, 'Taille Segment = 20, Taille Test = 10, Taille Apprentissage = 40': 0.6, 'Taille Segment = 20, Taille Test = 10, Taille Apprentissage = 50': 0.6666666666666666, 'Taille Segment = 20, Taille Test = 10, Taille Apprentissage = 60': 0.5333333333333333, 'Taille Segment = 20, Taille Test = 20, Taille Apprentissage = 30': 0.5, 'Taille Segment = 20, Taille Test = 20, Taille Apprentissage = 40': 0.6333333333333333, 'Taille Segment = 20, Taille Test = 20, Taille Apprentissage = 50': 0.5666666666666667, 'Taille Segment = 20, Taille Test = 20, Taille Apprentissage = 60': 0.6, 'Taille Segment = 20, Taille Test = 30, Taille Apprentissage = 30': 0.5333333333333333, 'Taille Segment = 20, Taille Test = 30, Taille Apprentissage = 40': 0.5666666666666667, 'Taille Segment = 20, Taille Test = 30, Taille Apprentissage = 50': 0.5333333333333333, 'Taille Segment = 20, Taille Test = 30, Taille Apprentissage = 60': 0.6, 'Taille Segment = 20, Taille Test = 40, Taille Apprentissage = 30': 0.5666666666666667, 'Taille Segment = 20, Taille Test = 40, Taille Apprentissage = 40': 0.4666666666666667, 'Taille Segment = 20, Taille Test = 40, Taille Apprentissage = 50': 0.5666666666666667, 'Taille Segment = 20, Taille Test = 40, Taille Apprentissage = 60': 0.6333333333333333, 'Taille Segment = 30, Taille Test = 10, Taille Apprentissage = 30': 0.5833333333333334, 'Taille Segment = 30, Taille Test = 10, Taille Apprentissage = 40': 0.6166666666666667, 'Taille Segment = 30, Taille Test = 10, Taille Apprentissage = 50': 0.5333333333333333, 'Taille Segment = 30, Taille Test = 10, Taille Apprentissage = 60': 0.5, 'Taille Segment = 30, Taille Test = 20, Taille Apprentissage = 30': 0.55, 'Taille Segment = 30, Taille Test = 20, Taille Apprentissage = 40': 0.6166666666666667, 'Taille Segment = 30, Taille Test = 20, Taille Apprentissage = 50': 0.5833333333333334, 'Taille Segment = 30, Taille Test = 20, Taille Apprentissage = 60': 0.6166666666666667, 'Taille Segment = 30, Taille Test = 30, Taille Apprentissage = 30': 0.6, 'Taille Segment = 30, Taille Test = 30, Taille Apprentissage = 40': 0.65, 'Taille Segment = 30, Taille Test = 30, Taille Apprentissage = 50': 0.5333333333333333, 'Taille Segment = 30, Taille Test = 30, Taille Apprentissage = 60': 0.5666666666666667, 'Taille Segment = 30, Taille Test = 40, Taille Apprentissage = 30': 0.6166666666666667, 'Taille Segment = 30, Taille Test = 40, Taille Apprentissage = 40': 0.5166666666666667, 'Taille Segment = 30, Taille Test = 40, Taille Apprentissage = 50': 0.55, 'Taille Segment = 30, Taille Test = 40, Taille Apprentissage = 60': 0.7166666666666667, 'Taille Segment = 40, Taille Test = 10, Taille Apprentissage = 30': 0.45555555555555555, 'Taille Segment = 40, Taille Test = 10, Taille Apprentissage = 40': 0.5555555555555556, 'Taille Segment = 40, Taille Test = 10, Taille Apprentissage = 50': 0.5666666666666667, 'Taille Segment = 40, Taille Test = 10, Taille Apprentissage = 60': 0.6444444444444445, 'Taille Segment = 40, Taille Test = 20, Taille Apprentissage = 30': 0.5444444444444444, 'Taille Segment = 40, Taille Test = 20, Taille Apprentissage = 40': 0.5222222222222223, 'Taille Segment = 40, Taille Test = 20, Taille Apprentissage = 50': 0.6111111111111112, 'Taille Segment = 40, Taille Test = 20, Taille Apprentissage = 60': 0.7, 'Taille Segment = 40, Taille Test = 30, Taille Apprentissage = 30': 0.5444444444444444, 'Taille Segment = 40, Taille Test = 30, Taille Apprentissage = 40': 0.5777777777777777, 'Taille Segment = 40, Taille Test = 30, Taille Apprentissage = 50': 0.5444444444444444, 'Taille Segment = 40, Taille Test = 30, Taille Apprentissage = 60': 0.5777777777777777, 'Taille Segment = 40, Taille Test = 40, Taille Apprentissage = 30': 0.6, 'Taille Segment = 40, Taille Test = 40, Taille Apprentissage = 40': 0.6111111111111112, 'Taille Segment = 40, Taille Test = 40, Taille Apprentissage = 50': 0.5222222222222223, 'Taille Segment = 40, Taille Test = 40, Taille Apprentissage = 60': 0.5666666666666667, 'Taille Segment = 50, Taille Test = 10, Taille Apprentissage = 30': 0.6416666666666667, 'Taille Segment = 50, Taille Test = 10, Taille Apprentissage = 40': 0.5166666666666667, 'Taille Segment = 50, Taille Test = 10, Taille Apprentissage = 50': 0.55, 'Taille Segment = 50, Taille Test = 10, Taille Apprentissage = 60': 0.5583333333333333, 'Taille Segment = 50, Taille Test = 20, Taille Apprentissage = 30': 0.6083333333333333, 'Taille Segment = 50, Taille Test = 20, Taille Apprentissage = 40': 0.5416666666666666, 'Taille Segment = 50, Taille Test = 20, Taille Apprentissage = 50': 0.6, 'Taille Segment = 50, Taille Test = 20, Taille Apprentissage = 60': 0.6083333333333333, 'Taille Segment = 50, Taille Test = 30, Taille Apprentissage = 30': 0.5666666666666667, 'Taille Segment = 50, Taille Test = 30, Taille Apprentissage = 40': 0.6166666666666667, 'Taille Segment = 50, Taille Test = 30, Taille Apprentissage = 50': 0.5166666666666667, 'Taille Segment = 50, Taille Test = 30, Taille Apprentissage = 60': 0.49166666666666664, 'Taille Segment = 50, Taille Test = 40, Taille Apprentissage = 30': 0.525, 'Taille Segment = 50, Taille Test = 40, Taille Apprentissage = 40': 0.5833333333333334, 'Taille Segment = 50, Taille Test = 40, Taille Apprentissage = 50': 0.55, 'Taille Segment = 50, Taille Test = 40, Taille Apprentissage = 60': 0.5166666666666667}\n",
            "{'Taille Segment = 20, Taille Test = 10, Taille Apprentissage = 30': 0.7333333333333333, 'Taille Segment = 20, Taille Test = 10, Taille Apprentissage = 40': 0.7333333333333333, 'Taille Segment = 20, Taille Test = 10, Taille Apprentissage = 50': 0.8333333333333334, 'Taille Segment = 20, Taille Test = 10, Taille Apprentissage = 60': 0.8, 'Taille Segment = 20, Taille Test = 20, Taille Apprentissage = 30': 0.7666666666666667, 'Taille Segment = 20, Taille Test = 20, Taille Apprentissage = 40': 0.8333333333333334, 'Taille Segment = 20, Taille Test = 20, Taille Apprentissage = 50': 0.7666666666666667, 'Taille Segment = 20, Taille Test = 20, Taille Apprentissage = 60': 0.8333333333333334, 'Taille Segment = 20, Taille Test = 30, Taille Apprentissage = 30': 0.6666666666666666, 'Taille Segment = 20, Taille Test = 30, Taille Apprentissage = 40': 0.7, 'Taille Segment = 20, Taille Test = 30, Taille Apprentissage = 50': 0.7333333333333333, 'Taille Segment = 20, Taille Test = 30, Taille Apprentissage = 60': 0.9, 'Taille Segment = 20, Taille Test = 40, Taille Apprentissage = 30': 0.8, 'Taille Segment = 20, Taille Test = 40, Taille Apprentissage = 40': 0.7666666666666667, 'Taille Segment = 20, Taille Test = 40, Taille Apprentissage = 50': 0.7666666666666667, 'Taille Segment = 20, Taille Test = 40, Taille Apprentissage = 60': 0.8, 'Taille Segment = 30, Taille Test = 10, Taille Apprentissage = 30': 0.7666666666666667, 'Taille Segment = 30, Taille Test = 10, Taille Apprentissage = 40': 0.7333333333333333, 'Taille Segment = 30, Taille Test = 10, Taille Apprentissage = 50': 0.7666666666666667, 'Taille Segment = 30, Taille Test = 10, Taille Apprentissage = 60': 0.7666666666666667, 'Taille Segment = 30, Taille Test = 20, Taille Apprentissage = 30': 0.7333333333333333, 'Taille Segment = 30, Taille Test = 20, Taille Apprentissage = 40': 0.7833333333333333, 'Taille Segment = 30, Taille Test = 20, Taille Apprentissage = 50': 0.7333333333333333, 'Taille Segment = 30, Taille Test = 20, Taille Apprentissage = 60': 0.7166666666666667, 'Taille Segment = 30, Taille Test = 30, Taille Apprentissage = 30': 0.65, 'Taille Segment = 30, Taille Test = 30, Taille Apprentissage = 40': 0.75, 'Taille Segment = 30, Taille Test = 30, Taille Apprentissage = 50': 0.7166666666666667, 'Taille Segment = 30, Taille Test = 30, Taille Apprentissage = 60': 0.6666666666666666, 'Taille Segment = 30, Taille Test = 40, Taille Apprentissage = 30': 0.7333333333333333, 'Taille Segment = 30, Taille Test = 40, Taille Apprentissage = 40': 0.7333333333333333, 'Taille Segment = 30, Taille Test = 40, Taille Apprentissage = 50': 0.7333333333333333, 'Taille Segment = 30, Taille Test = 40, Taille Apprentissage = 60': 0.8666666666666667, 'Taille Segment = 40, Taille Test = 10, Taille Apprentissage = 30': 0.8222222222222222, 'Taille Segment = 40, Taille Test = 10, Taille Apprentissage = 40': 0.6555555555555556, 'Taille Segment = 40, Taille Test = 10, Taille Apprentissage = 50': 0.7333333333333333, 'Taille Segment = 40, Taille Test = 10, Taille Apprentissage = 60': 0.7222222222222222, 'Taille Segment = 40, Taille Test = 20, Taille Apprentissage = 30': 0.6888888888888889, 'Taille Segment = 40, Taille Test = 20, Taille Apprentissage = 40': 0.6555555555555556, 'Taille Segment = 40, Taille Test = 20, Taille Apprentissage = 50': 0.7444444444444445, 'Taille Segment = 40, Taille Test = 20, Taille Apprentissage = 60': 0.7555555555555555, 'Taille Segment = 40, Taille Test = 30, Taille Apprentissage = 30': 0.7777777777777778, 'Taille Segment = 40, Taille Test = 30, Taille Apprentissage = 40': 0.7888888888888889, 'Taille Segment = 40, Taille Test = 30, Taille Apprentissage = 50': 0.6444444444444445, 'Taille Segment = 40, Taille Test = 30, Taille Apprentissage = 60': 0.7888888888888889, 'Taille Segment = 40, Taille Test = 40, Taille Apprentissage = 30': 0.7111111111111111, 'Taille Segment = 40, Taille Test = 40, Taille Apprentissage = 40': 0.7444444444444445, 'Taille Segment = 40, Taille Test = 40, Taille Apprentissage = 50': 0.7555555555555555, 'Taille Segment = 40, Taille Test = 40, Taille Apprentissage = 60': 0.7111111111111111, 'Taille Segment = 50, Taille Test = 10, Taille Apprentissage = 30': 0.8583333333333333, 'Taille Segment = 50, Taille Test = 10, Taille Apprentissage = 40': 0.7916666666666666, 'Taille Segment = 50, Taille Test = 10, Taille Apprentissage = 50': 0.8083333333333333, 'Taille Segment = 50, Taille Test = 10, Taille Apprentissage = 60': 0.7833333333333333, 'Taille Segment = 50, Taille Test = 20, Taille Apprentissage = 30': 0.8833333333333333, 'Taille Segment = 50, Taille Test = 20, Taille Apprentissage = 40': 0.7833333333333333, 'Taille Segment = 50, Taille Test = 20, Taille Apprentissage = 50': 0.8333333333333334, 'Taille Segment = 50, Taille Test = 20, Taille Apprentissage = 60': 0.775, 'Taille Segment = 50, Taille Test = 30, Taille Apprentissage = 30': 0.7916666666666666, 'Taille Segment = 50, Taille Test = 30, Taille Apprentissage = 40': 0.7833333333333333, 'Taille Segment = 50, Taille Test = 30, Taille Apprentissage = 50': 0.8083333333333333, 'Taille Segment = 50, Taille Test = 30, Taille Apprentissage = 60': 0.8166666666666667, 'Taille Segment = 50, Taille Test = 40, Taille Apprentissage = 30': 0.8666666666666667, 'Taille Segment = 50, Taille Test = 40, Taille Apprentissage = 40': 0.85, 'Taille Segment = 50, Taille Test = 40, Taille Apprentissage = 50': 0.8416666666666667, 'Taille Segment = 50, Taille Test = 40, Taille Apprentissage = 60': 0.8166666666666667}\n"
          ],
          "name": "stdout"
        }
      ]
    },
    {
      "cell_type": "code",
      "metadata": {
        "id": "0DWDIC5dcwKh"
      },
      "source": [],
      "execution_count": null,
      "outputs": []
    }
  ]
}